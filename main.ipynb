{
 "cells": [
  {
   "cell_type": "markdown",
   "id": "11bf6e59-b2c1-4d11-b56b-2a6dd2c227d0",
   "metadata": {},
   "source": [
    "                                           Recommendation System: Collaborative Filtering"
   ]
  },
  {
   "cell_type": "markdown",
   "id": "bf3340ac-f71a-4d8c-8f73-cbaffcc41a94",
   "metadata": {},
   "source": [
    "## Librairies Import"
   ]
  },
  {
   "cell_type": "code",
   "execution_count": 3,
   "id": "57594e33-fc9c-45a3-a42e-2e95f8af540f",
   "metadata": {},
   "outputs": [],
   "source": [
    "import pandas as pd\n",
    "import numpy as np\n",
    "import seaborn as sea\n",
    "import matplotlib.pyplot as plt\n",
    "import os\n",
    "from scipy.stats import ttest_ind\n",
    "import warnings"
   ]
  },
  {
   "cell_type": "code",
   "execution_count": 4,
   "id": "9c1466e7-bae4-4375-844c-207feb5f23e6",
   "metadata": {},
   "outputs": [],
   "source": [
    "SEED=42\n",
    "np.random.seed(SEED)\n",
    "warnings.filterwarnings(action='ignore')"
   ]
  },
  {
   "cell_type": "markdown",
   "id": "b1033ad4-453b-470b-b646-2b13cedcc4e7",
   "metadata": {},
   "source": [
    "## Data Loading "
   ]
  },
  {
   "cell_type": "code",
   "execution_count": 6,
   "id": "1da0c209-e757-4e1f-bb2f-a9bee8526d08",
   "metadata": {},
   "outputs": [],
   "source": [
    "items=pd.read_csv(os.path.join('data','items.csv'))\n",
    "users=pd.read_csv(os.path.join('data','user.csv'))\n",
    "votes=pd.read_csv(os.path.join('data','votes.csv'))\n",
    "\n",
    "MUI=votes.pivot(index='user.id',columns='item.id',values='rating').fillna(0)"
   ]
  },
  {
   "cell_type": "markdown",
   "id": "cfd8e014-5543-4e6c-8db6-559d6205f806",
   "metadata": {},
   "source": [
    "## Data Analysis"
   ]
  },
  {
   "cell_type": "markdown",
   "id": "b0439db8-4749-4ebc-8dff-7a0c8aab5c27",
   "metadata": {},
   "source": [
    "**Overview of the data**"
   ]
  },
  {
   "cell_type": "code",
   "execution_count": 9,
   "id": "3748e5e4-9dca-4af6-ad0e-edbf6fce3c91",
   "metadata": {},
   "outputs": [
    {
     "name": "stdout",
     "output_type": "stream",
     "text": [
      "Overview of items : \n"
     ]
    },
    {
     "data": {
      "text/html": [
       "<div>\n",
       "<style scoped>\n",
       "    .dataframe tbody tr th:only-of-type {\n",
       "        vertical-align: middle;\n",
       "    }\n",
       "\n",
       "    .dataframe tbody tr th {\n",
       "        vertical-align: top;\n",
       "    }\n",
       "\n",
       "    .dataframe thead th {\n",
       "        text-align: right;\n",
       "    }\n",
       "</style>\n",
       "<table border=\"1\" class=\"dataframe\">\n",
       "  <thead>\n",
       "    <tr style=\"text-align: right;\">\n",
       "      <th></th>\n",
       "      <th>movie.id</th>\n",
       "      <th>movie.title</th>\n",
       "      <th>release.date</th>\n",
       "      <th>video.release.date</th>\n",
       "      <th>IMDb.URL</th>\n",
       "      <th>unknown</th>\n",
       "      <th>Action</th>\n",
       "      <th>Adventure</th>\n",
       "      <th>Animation</th>\n",
       "      <th>Children's</th>\n",
       "      <th>...</th>\n",
       "      <th>Fantasy</th>\n",
       "      <th>Film-Noir</th>\n",
       "      <th>Horror</th>\n",
       "      <th>Musical</th>\n",
       "      <th>Mystery</th>\n",
       "      <th>Romance</th>\n",
       "      <th>Sci-Fi</th>\n",
       "      <th>Thriller</th>\n",
       "      <th>War</th>\n",
       "      <th>Western</th>\n",
       "    </tr>\n",
       "  </thead>\n",
       "  <tbody>\n",
       "    <tr>\n",
       "      <th>0</th>\n",
       "      <td>1</td>\n",
       "      <td>Toy Story (1995)</td>\n",
       "      <td>01-Jan-1995</td>\n",
       "      <td>NaN</td>\n",
       "      <td>http://us.imdb.com/M/title-exact?Toy%20Story%2...</td>\n",
       "      <td>0</td>\n",
       "      <td>0</td>\n",
       "      <td>0</td>\n",
       "      <td>1</td>\n",
       "      <td>1</td>\n",
       "      <td>...</td>\n",
       "      <td>0</td>\n",
       "      <td>0</td>\n",
       "      <td>0</td>\n",
       "      <td>0</td>\n",
       "      <td>0</td>\n",
       "      <td>0</td>\n",
       "      <td>0</td>\n",
       "      <td>0</td>\n",
       "      <td>0</td>\n",
       "      <td>0</td>\n",
       "    </tr>\n",
       "    <tr>\n",
       "      <th>1</th>\n",
       "      <td>2</td>\n",
       "      <td>GoldenEye (1995)</td>\n",
       "      <td>01-Jan-1995</td>\n",
       "      <td>NaN</td>\n",
       "      <td>http://us.imdb.com/M/title-exact?GoldenEye%20(...</td>\n",
       "      <td>0</td>\n",
       "      <td>1</td>\n",
       "      <td>1</td>\n",
       "      <td>0</td>\n",
       "      <td>0</td>\n",
       "      <td>...</td>\n",
       "      <td>0</td>\n",
       "      <td>0</td>\n",
       "      <td>0</td>\n",
       "      <td>0</td>\n",
       "      <td>0</td>\n",
       "      <td>0</td>\n",
       "      <td>0</td>\n",
       "      <td>1</td>\n",
       "      <td>0</td>\n",
       "      <td>0</td>\n",
       "    </tr>\n",
       "    <tr>\n",
       "      <th>2</th>\n",
       "      <td>3</td>\n",
       "      <td>Four Rooms (1995)</td>\n",
       "      <td>01-Jan-1995</td>\n",
       "      <td>NaN</td>\n",
       "      <td>http://us.imdb.com/M/title-exact?Four%20Rooms%...</td>\n",
       "      <td>0</td>\n",
       "      <td>0</td>\n",
       "      <td>0</td>\n",
       "      <td>0</td>\n",
       "      <td>0</td>\n",
       "      <td>...</td>\n",
       "      <td>0</td>\n",
       "      <td>0</td>\n",
       "      <td>0</td>\n",
       "      <td>0</td>\n",
       "      <td>0</td>\n",
       "      <td>0</td>\n",
       "      <td>0</td>\n",
       "      <td>1</td>\n",
       "      <td>0</td>\n",
       "      <td>0</td>\n",
       "    </tr>\n",
       "    <tr>\n",
       "      <th>3</th>\n",
       "      <td>4</td>\n",
       "      <td>Get Shorty (1995)</td>\n",
       "      <td>01-Jan-1995</td>\n",
       "      <td>NaN</td>\n",
       "      <td>http://us.imdb.com/M/title-exact?Get%20Shorty%...</td>\n",
       "      <td>0</td>\n",
       "      <td>1</td>\n",
       "      <td>0</td>\n",
       "      <td>0</td>\n",
       "      <td>0</td>\n",
       "      <td>...</td>\n",
       "      <td>0</td>\n",
       "      <td>0</td>\n",
       "      <td>0</td>\n",
       "      <td>0</td>\n",
       "      <td>0</td>\n",
       "      <td>0</td>\n",
       "      <td>0</td>\n",
       "      <td>0</td>\n",
       "      <td>0</td>\n",
       "      <td>0</td>\n",
       "    </tr>\n",
       "    <tr>\n",
       "      <th>4</th>\n",
       "      <td>5</td>\n",
       "      <td>Copycat (1995)</td>\n",
       "      <td>01-Jan-1995</td>\n",
       "      <td>NaN</td>\n",
       "      <td>http://us.imdb.com/M/title-exact?Copycat%20(1995)</td>\n",
       "      <td>0</td>\n",
       "      <td>0</td>\n",
       "      <td>0</td>\n",
       "      <td>0</td>\n",
       "      <td>0</td>\n",
       "      <td>...</td>\n",
       "      <td>0</td>\n",
       "      <td>0</td>\n",
       "      <td>0</td>\n",
       "      <td>0</td>\n",
       "      <td>0</td>\n",
       "      <td>0</td>\n",
       "      <td>0</td>\n",
       "      <td>1</td>\n",
       "      <td>0</td>\n",
       "      <td>0</td>\n",
       "    </tr>\n",
       "  </tbody>\n",
       "</table>\n",
       "<p>5 rows × 24 columns</p>\n",
       "</div>"
      ],
      "text/plain": [
       "   movie.id        movie.title release.date  video.release.date  \\\n",
       "0         1   Toy Story (1995)  01-Jan-1995                 NaN   \n",
       "1         2   GoldenEye (1995)  01-Jan-1995                 NaN   \n",
       "2         3  Four Rooms (1995)  01-Jan-1995                 NaN   \n",
       "3         4  Get Shorty (1995)  01-Jan-1995                 NaN   \n",
       "4         5     Copycat (1995)  01-Jan-1995                 NaN   \n",
       "\n",
       "                                            IMDb.URL  unknown  Action  \\\n",
       "0  http://us.imdb.com/M/title-exact?Toy%20Story%2...        0       0   \n",
       "1  http://us.imdb.com/M/title-exact?GoldenEye%20(...        0       1   \n",
       "2  http://us.imdb.com/M/title-exact?Four%20Rooms%...        0       0   \n",
       "3  http://us.imdb.com/M/title-exact?Get%20Shorty%...        0       1   \n",
       "4  http://us.imdb.com/M/title-exact?Copycat%20(1995)        0       0   \n",
       "\n",
       "   Adventure  Animation  Children's  ...  Fantasy  Film-Noir  Horror  Musical  \\\n",
       "0          0          1           1  ...        0          0       0        0   \n",
       "1          1          0           0  ...        0          0       0        0   \n",
       "2          0          0           0  ...        0          0       0        0   \n",
       "3          0          0           0  ...        0          0       0        0   \n",
       "4          0          0           0  ...        0          0       0        0   \n",
       "\n",
       "   Mystery  Romance  Sci-Fi  Thriller  War  Western  \n",
       "0        0        0       0         0    0        0  \n",
       "1        0        0       0         1    0        0  \n",
       "2        0        0       0         1    0        0  \n",
       "3        0        0       0         0    0        0  \n",
       "4        0        0       0         1    0        0  \n",
       "\n",
       "[5 rows x 24 columns]"
      ]
     },
     "metadata": {},
     "output_type": "display_data"
    },
    {
     "name": "stdout",
     "output_type": "stream",
     "text": [
      "\n",
      "Overview of users : \n"
     ]
    },
    {
     "data": {
      "text/html": [
       "<div>\n",
       "<style scoped>\n",
       "    .dataframe tbody tr th:only-of-type {\n",
       "        vertical-align: middle;\n",
       "    }\n",
       "\n",
       "    .dataframe tbody tr th {\n",
       "        vertical-align: top;\n",
       "    }\n",
       "\n",
       "    .dataframe thead th {\n",
       "        text-align: right;\n",
       "    }\n",
       "</style>\n",
       "<table border=\"1\" class=\"dataframe\">\n",
       "  <thead>\n",
       "    <tr style=\"text-align: right;\">\n",
       "      <th></th>\n",
       "      <th>id</th>\n",
       "      <th>age</th>\n",
       "      <th>gender</th>\n",
       "      <th>job</th>\n",
       "      <th>zip</th>\n",
       "    </tr>\n",
       "  </thead>\n",
       "  <tbody>\n",
       "    <tr>\n",
       "      <th>0</th>\n",
       "      <td>1</td>\n",
       "      <td>24</td>\n",
       "      <td>M</td>\n",
       "      <td>technician</td>\n",
       "      <td>85711</td>\n",
       "    </tr>\n",
       "    <tr>\n",
       "      <th>1</th>\n",
       "      <td>2</td>\n",
       "      <td>53</td>\n",
       "      <td>F</td>\n",
       "      <td>other</td>\n",
       "      <td>94043</td>\n",
       "    </tr>\n",
       "    <tr>\n",
       "      <th>2</th>\n",
       "      <td>3</td>\n",
       "      <td>23</td>\n",
       "      <td>M</td>\n",
       "      <td>writer</td>\n",
       "      <td>32067</td>\n",
       "    </tr>\n",
       "    <tr>\n",
       "      <th>3</th>\n",
       "      <td>4</td>\n",
       "      <td>24</td>\n",
       "      <td>M</td>\n",
       "      <td>technician</td>\n",
       "      <td>43537</td>\n",
       "    </tr>\n",
       "    <tr>\n",
       "      <th>4</th>\n",
       "      <td>5</td>\n",
       "      <td>33</td>\n",
       "      <td>F</td>\n",
       "      <td>other</td>\n",
       "      <td>15213</td>\n",
       "    </tr>\n",
       "  </tbody>\n",
       "</table>\n",
       "</div>"
      ],
      "text/plain": [
       "   id  age gender         job    zip\n",
       "0   1   24      M  technician  85711\n",
       "1   2   53      F       other  94043\n",
       "2   3   23      M      writer  32067\n",
       "3   4   24      M  technician  43537\n",
       "4   5   33      F       other  15213"
      ]
     },
     "metadata": {},
     "output_type": "display_data"
    },
    {
     "name": "stdout",
     "output_type": "stream",
     "text": [
      "\n",
      "Overview of votes : \n"
     ]
    },
    {
     "data": {
      "text/html": [
       "<div>\n",
       "<style scoped>\n",
       "    .dataframe tbody tr th:only-of-type {\n",
       "        vertical-align: middle;\n",
       "    }\n",
       "\n",
       "    .dataframe tbody tr th {\n",
       "        vertical-align: top;\n",
       "    }\n",
       "\n",
       "    .dataframe thead th {\n",
       "        text-align: right;\n",
       "    }\n",
       "</style>\n",
       "<table border=\"1\" class=\"dataframe\">\n",
       "  <thead>\n",
       "    <tr style=\"text-align: right;\">\n",
       "      <th></th>\n",
       "      <th>user.id</th>\n",
       "      <th>item.id</th>\n",
       "      <th>rating</th>\n",
       "      <th>timestamp</th>\n",
       "    </tr>\n",
       "  </thead>\n",
       "  <tbody>\n",
       "    <tr>\n",
       "      <th>0</th>\n",
       "      <td>196</td>\n",
       "      <td>242</td>\n",
       "      <td>3</td>\n",
       "      <td>881250949</td>\n",
       "    </tr>\n",
       "    <tr>\n",
       "      <th>1</th>\n",
       "      <td>186</td>\n",
       "      <td>302</td>\n",
       "      <td>3</td>\n",
       "      <td>891717742</td>\n",
       "    </tr>\n",
       "    <tr>\n",
       "      <th>2</th>\n",
       "      <td>22</td>\n",
       "      <td>377</td>\n",
       "      <td>1</td>\n",
       "      <td>878887116</td>\n",
       "    </tr>\n",
       "    <tr>\n",
       "      <th>3</th>\n",
       "      <td>244</td>\n",
       "      <td>51</td>\n",
       "      <td>2</td>\n",
       "      <td>880606923</td>\n",
       "    </tr>\n",
       "    <tr>\n",
       "      <th>4</th>\n",
       "      <td>166</td>\n",
       "      <td>346</td>\n",
       "      <td>1</td>\n",
       "      <td>886397596</td>\n",
       "    </tr>\n",
       "  </tbody>\n",
       "</table>\n",
       "</div>"
      ],
      "text/plain": [
       "   user.id  item.id  rating  timestamp\n",
       "0      196      242       3  881250949\n",
       "1      186      302       3  891717742\n",
       "2       22      377       1  878887116\n",
       "3      244       51       2  880606923\n",
       "4      166      346       1  886397596"
      ]
     },
     "metadata": {},
     "output_type": "display_data"
    }
   ],
   "source": [
    "print(\"Overview of items : \")\n",
    "display(items.head())\n",
    "print()\n",
    "print(\"Overview of users : \")\n",
    "display(users.head())\n",
    "print()\n",
    "print(\"Overview of votes : \")\n",
    "display(votes.head())"
   ]
  },
  {
   "cell_type": "markdown",
   "id": "89eca224-0afe-466e-b513-a3edda56d226",
   "metadata": {},
   "source": [
    "**Number of users,items and rating**"
   ]
  },
  {
   "cell_type": "code",
   "execution_count": 11,
   "id": "ff58261b-4eb1-40a3-a2c5-1e9843ea7503",
   "metadata": {},
   "outputs": [
    {
     "name": "stdout",
     "output_type": "stream",
     "text": [
      "Total Number of users : 943\n",
      "Total Number of items : 1682\n",
      "Total Number of votes : 100000\n"
     ]
    }
   ],
   "source": [
    "print(f\"Total Number of users : {users['id'].nunique()}\")\n",
    "print(f\"Total Number of items : {items['movie.id'].nunique()}\")\n",
    "print(f\"Total Number of votes : {len(votes)}\")"
   ]
  },
  {
   "cell_type": "markdown",
   "id": "85ba2f6e-038f-4528-a2b1-653c86eba297",
   "metadata": {},
   "source": [
    "**Histogram of given ratings**"
   ]
  },
  {
   "cell_type": "code",
   "execution_count": 13,
   "id": "025d0888-4692-4426-afb7-d07d3e0014b8",
   "metadata": {},
   "outputs": [
    {
     "data": {
      "image/png": "[encoded data removed]",
      "text/plain": [
       "<Figure size 800x400 with 1 Axes>"
      ]
     },
     "metadata": {},
     "output_type": "display_data"
    }
   ],
   "source": [
    "# Setting the size of the figure  (width=8 , height=4)\n",
    "plt.figure(figsize=(8,4))\n",
    "# creating a counplot to display the frequency of each rating value \n",
    "ax=sea.countplot(data=votes,x='rating',palette='viridis')\n",
    "for p in ax.patches:\n",
    "    height=p.get_height()\n",
    "    width=p.get_width()\n",
    "    x=p.get_x()\n",
    "    ax.text(x=x+width/2,y=height+30,s=f\"{int(height)}\",fontsize=12,ha='center')\n",
    "\n",
    "ax.set_xlabel(\"Rating\")\n",
    "ax.set_ylabel(\"Number of votes\")\n",
    "ax.set_title(\"Rating Distribution\",c='r')\n",
    "plt.grid(visible=True,axis='y',linestyle='--')"
   ]
  },
  {
   "cell_type": "markdown",
   "id": "5418ca9e-d31a-417b-b338-a62284ffaec0",
   "metadata": {},
   "source": [
    "Analysis : \n",
    "\n",
    "- Asymetric distribution with a higher concentration on high ratings (rating 4 is the most frequent).\n",
    "- Users tends to avoid giving low ratings which is a common pattern is recommendation systems where people are more likely to rate items when they enjoy.(Warning: Low scores are underrepresented which may lead to over-recommendation of highly rated items  and will likely require some form of score normalization.\n",
    "\n",
    "Note : Rebalancing could be considered.Possible strategies include : \n",
    "- Normalizing rating per user\n",
    "- Binarizing interactions\n",
    "- Giving more weight to low rating during the optimisation process.\n"
   ]
  },
  {
   "cell_type": "markdown",
   "id": "bf0c83ed-0e7f-4671-b47c-f9c8f9038357",
   "metadata": {},
   "source": [
    "**Top10 Most Rated Items**"
   ]
  },
  {
   "cell_type": "code",
   "execution_count": 16,
   "id": "b0b3ca4d-bc85-409e-9d7d-9c39ab4a41bf",
   "metadata": {},
   "outputs": [
    {
     "data": {
      "text/plain": [
       "Text(0, 0.5, 'Items')"
      ]
     },
     "execution_count": 16,
     "metadata": {},
     "output_type": "execute_result"
    },
    {
     "data": {
      "image/png": "[encoded data removed]",
      "text/plain": [
       "<Figure size 600x400 with 1 Axes>"
      ]
     },
     "metadata": {},
     "output_type": "display_data"
    }
   ],
   "source": [
    "top10_items_votes=votes['item.id'].value_counts().head(10)\n",
    "indexes=list(top10_items_votes.index) # Extracting the corresponding item-ids\n",
    "movies_name=[items.loc[items['movie.id']==index,'movie.title'].iloc[0] for index in indexes] # Retrieving the movie titles associated with each item id\n",
    "plt.figure(figsize=(6,4))\n",
    "sea.barplot(x=top10_items_votes,y=movies_name,palette='magma')\n",
    "\n",
    "plt.title('Top 10 Most Rated Items',c='r')\n",
    "plt.xlabel('Number of Votes')\n",
    "plt.ylabel('Items')\n",
    "\n"
   ]
  },
  {
   "cell_type": "markdown",
   "id": "0880731d-73ba-4e38-9d4c-05114940b038",
   "metadata": {},
   "source": [
    "Analysis: \n",
    "Star Wars has the higher number of votes, suggesting that these movies may be over-recommended due to popularity bias. To mitigate this, it may become necessary to penalize popular items by reducing their influence in the recommendation process, for example, using TF-IDF weighting or amplification techniques. Using these adjustments is important for helping to preserve recommendation diversity and avoid reinforcing already dominant items. "
   ]
  },
  {
   "cell_type": "markdown",
   "id": "27b263f5-1273-4abc-a409-1ddb36a7fa54",
   "metadata": {},
   "source": [
    "**Top 10 Most Actif Users**"
   ]
  },
  {
   "cell_type": "code",
   "execution_count": 19,
   "id": "f376620a-d050-4b2b-a9ab-98db6d2d15fb",
   "metadata": {},
   "outputs": [
    {
     "data": {
      "text/plain": [
       "Text(0, 0.5, 'Id User')"
      ]
     },
     "execution_count": 19,
     "metadata": {},
     "output_type": "execute_result"
    },
    {
     "data": {
      "image/png": "[encoded data removed]",
      "text/plain": [
       "<Figure size 600x400 with 1 Axes>"
      ]
     },
     "metadata": {},
     "output_type": "display_data"
    }
   ],
   "source": [
    "top10_users_votes=votes['user.id'].value_counts().head(10)\n",
    "indexes=(top10_users_votes.index) # Extracting the corresponding user-ids\n",
    "plt.figure(figsize=(6,4))\n",
    "sea.barplot(x=top10_users_votes,y=indexes.astype(str),palette='cool')\n",
    "\n",
    "plt.title('Top 10 Most Actif Users',c='r')\n",
    "plt.xlabel('Number of rating')\n",
    "plt.ylabel('Id User')\n",
    "\n"
   ]
  },
  {
   "cell_type": "markdown",
   "id": "a4840ea6-b647-4d50-a04f-d7365269c8fa",
   "metadata": {},
   "source": [
    "Analysis: \n",
    "The user with ID 405 has submitted over 700 ratings, significantly above average. Moreover, the top 10 users have rated at least 450 items , classifying them as power users or experts within the system. This also shows a user activity imbalance, where a small subset of users generates a large portion of interactions. These profiles may dominate the UI matrix and bias the model toward their specific preferences, potentially leading to overfitting.\n",
    "\n",
    "Note: (We may use weighting mechanisms to reduce their disproportionate influence during model training)."
   ]
  },
  {
   "cell_type": "markdown",
   "id": "ff9e5602-0491-47c3-853b-f883ec1934f7",
   "metadata": {},
   "source": [
    "**HeatMap MUI**"
   ]
  },
  {
   "cell_type": "code",
   "execution_count": 22,
   "id": "ad660779-b4cb-4eea-ba11-924e8784617c",
   "metadata": {},
   "outputs": [
    {
     "data": {
      "text/plain": [
       "Text(95.72222222222221, 0.5, 'User Id')"
      ]
     },
     "execution_count": 22,
     "metadata": {},
     "output_type": "execute_result"
    },
    {
     "data": {
      "image/png": "[encoded data removed]",
      "text/plain": [
       "<Figure size 1000x1000 with 2 Axes>"
      ]
     },
     "metadata": {},
     "output_type": "display_data"
    }
   ],
   "source": [
    "plt.figure(figsize=(10,10))\n",
    "# Plotting a HeatMap of the first 20 users and 20 items from the MUI\n",
    "sea.heatmap(data=MUI.iloc[:20,:20],cmap='YlGnBu',cbar_kws={'label':'Rating'})\n",
    "\n",
    "\n",
    "plt.title(\"HeatMap of the First 20 Users vs First 20 Items \",c='r')\n",
    "plt.xlabel('Item Id')\n",
    "plt.ylabel('User Id')"
   ]
  },
  {
   "cell_type": "markdown",
   "id": "87d63275-5287-40df-9e53-10656ccaa562",
   "metadata": {},
   "source": [
    "Analysis: \n",
    "\n",
    "The UI matrix exhibits a high number of 0s, showing a common issue in recommendation systems: matrix sparsity. The sparsity arises because users typically rate only a small fraction of available items, introducing challenges in computing similarities and reducing the robustness of predictions.\n",
    "\n",
    "To address this, it might be beneficial to apply matrix factorization techniques such as SVD, NMF, ALS, or gradient-based factorization methods, which are well suited for handling sparse interaction data."
   ]
  },
  {
   "cell_type": "markdown",
   "id": "c109ea6c-fa30-4093-ace8-cecb7aba0247",
   "metadata": {},
   "source": [
    "## Simple Baseline Methods"
   ]
  },
  {
   "cell_type": "markdown",
   "id": "630f642e-f4b6-4f68-8516-bcde52bbb1ab",
   "metadata": {},
   "source": [
    "Why?\n",
    "\n",
    "- Provides a reference point for evaluating more advanced methods (e.g., matrix factorization or NN)\n",
    "- It helps detect issues such as sparsity, imbalance, or extreme ratings\n",
    "- Ensure proper Functioning of evaluation metrics\n",
    "\n",
    "The performance of these methods will be compared with and without cross-validation. Initially, this will give us a quick estimates of the performance across different methods and allow for easy comparison. In a second stage, it will help measure the robustness of our approach,reduce the risk of overfitting, obtain a more reliable performance evaluation, and stimulate the behavior of multiple users. The cross-validation that will be implemented is the 5-fold KFold."
   ]
  },
  {
   "cell_type": "markdown",
   "id": "7f9d3703-1fd9-4c28-8bc8-c9213c756636",
   "metadata": {},
   "source": [
    "**Errors calculation Functions**"
   ]
  },
  {
   "cell_type": "code",
   "execution_count": 27,
   "id": "1c589394-6cc9-4eb1-a62d-869faccfef49",
   "metadata": {},
   "outputs": [],
   "source": [
    "def RMSE(y_true,y_pred):\n",
    "    return np.sqrt(np.nanmean((y_true-y_pred)**2))\n",
    "\n",
    "def MAE(y_true,y_pred):\n",
    "    return np.nanmean(np.abs(y_true-y_pred))\n",
    "\n",
    "# Transformation of the UI matrix into numpy format + Flatten to make later calculation\n",
    "\n",
    "MUI_numpy=MUI.to_numpy()\n",
    "MUI_numpy_flatten=MUI_numpy.flatten()\n"
   ]
  },
  {
   "cell_type": "markdown",
   "id": "0412168a-b415-4a5d-baf3-0b6c0250c7c4",
   "metadata": {},
   "source": [
    "**Performance calculation of the methods without cross-validation**"
   ]
  },
  {
   "cell_type": "code",
   "execution_count": 29,
   "id": "51530b0f-1843-423d-bc91-391f45c7ec5a",
   "metadata": {},
   "outputs": [
    {
     "name": "stdout",
     "output_type": "stream",
     "text": [
      "Error calculation for random vote : \n",
      "RMSE for random vote :3.2449198128290777\n",
      "MAE for random vote : 2.9060736662787194 \n",
      "------------------------------------------\n",
      "Error calculation for Mean Vote : \n",
      "RMSE for mean vote :2.9206452152520597\n",
      "MAE for mean vote : 2.8740112702269554\n",
      "------------------------------------------\n",
      "Error calculation for User Mean Vote :\n",
      "RMSE for User Mean Vote :0.8799017568877189\n",
      "MAE for User Mean Vote : 0.3931249181864198\n",
      "---------------------------------------------\n",
      "Error calculation for Item Mean Vote :\n",
      "RMSE for Item Mean Vote :0.8420031919443053\n",
      "MAE for Item Mean Vote : 0.36213007935837777\n",
      "----------------------------------------\n",
      "Error calculation for Expected Mean Vote :\n",
      "RMSE for Expected Mean Vote : 0.8393083322140868\n",
      "MAE for Expected Mean Vote : 0.3774504831100592\n"
     ]
    }
   ],
   "source": [
    "## Vote aléatoire \n",
    "# Generating random numbers between min and max rating : \n",
    "min_v=np.min(votes['rating'])\n",
    "max_v=np.max(votes['rating'])\n",
    "random_vote=np.random.randint(low=min_v,high=max_v+1,size=MUI_numpy.shape)\n",
    "print(\"Error calculation for random vote : \")\n",
    "print(f'RMSE for random vote :{RMSE(MUI_numpy,random_vote)}')\n",
    "print(f\"MAE for random vote : {MAE(MUI_numpy,random_vote)} \")\n",
    "## Mean Vote\n",
    "global_mean=np.nanmean(votes['rating'])\n",
    "mean_votes=np.full(shape=MUI_numpy.shape,fill_value=global_mean,dtype=int)\n",
    "print(\"------------------------------------------\")\n",
    "print(\"Error calculation for Mean Vote : \")\n",
    "print(f'RMSE for mean vote :{RMSE(MUI_numpy,mean_votes)}')\n",
    "print(f\"MAE for mean vote : {MAE(MUI_numpy,mean_votes)}\")\n",
    "## User Mean Vote \n",
    "user_mean=np.nanmean(MUI_numpy,axis=1)\n",
    "mean_vote_user=np.tile(np.reshape(user_mean,(-1,1)),(1,MUI_numpy.shape[1]))\n",
    "print(\"------------------------------------------\")\n",
    "print(\"Error calculation for User Mean Vote :\")\n",
    "print(f'RMSE for User Mean Vote :{RMSE(MUI_numpy,mean_vote_user)}')\n",
    "print(f\"MAE for User Mean Vote : {MAE(MUI_numpy,mean_vote_user)}\")\n",
    "## Item Mean Vote\n",
    "item_mean=np.nanmean(MUI_numpy.T,axis=1)\n",
    "item_mean_vote=np.tile(item_mean,(MUI_numpy.shape[0],1))\n",
    "print(\"---------------------------------------------\")\n",
    "print(\"Error calculation for Item Mean Vote :\")\n",
    "print(f'RMSE for Item Mean Vote :{RMSE(MUI_numpy,item_mean_vote)}')\n",
    "print(f\"MAE for Item Mean Vote : {MAE(MUI_numpy,item_mean_vote)}\")\n",
    "## Expected Mean Vote\n",
    "expected_mean_vote=1/2*(mean_vote_user+item_mean_vote)\n",
    "print(\"----------------------------------------\")\n",
    "print(\"Error calculation for Expected Mean Vote :\")\n",
    "print(f'RMSE for Expected Mean Vote : {RMSE(MUI_numpy,expected_mean_vote)}')\n",
    "print(f\"MAE for Expected Mean Vote : {MAE(MUI_numpy,expected_mean_vote)}\")\n",
    "liste_rmse_no_cross=[RMSE(MUI_numpy,random_vote),RMSE(MUI_numpy,mean_votes),RMSE(MUI_numpy,mean_vote_user),RMSE(MUI_numpy,item_mean_vote),RMSE(MUI_numpy,expected_mean_vote)]\n",
    "liste_mae_no_cross=[MAE(MUI_numpy,random_vote),MAE(MUI_numpy,mean_votes),MAE(MUI_numpy,mean_vote_user),MAE(MUI_numpy,item_mean_vote),MAE(MUI_numpy,expected_mean_vote)]"
   ]
  },
  {
   "cell_type": "markdown",
   "id": "88ec5456-87d9-48c6-9a8f-a92fdd6cb2b7",
   "metadata": {},
   "source": [
    "Initial comments based on the results obtained\n",
    "- Methods that calculate averages to predict ratings perform better than those that randomly generate ratings\n",
    "- The most accurate method is the one that combines both user and item averages\n",
    "- RMSE is higher than MAE for all the methods used. However, the gap between the two decreases for the most accurate methods, showing that when a method is more precise, it also produces fewer large errors."
   ]
  },
  {
   "cell_type": "markdown",
   "id": "96c55afc-2378-4b98-a248-d8f27848fd17",
   "metadata": {},
   "source": [
    "**Performance calculation of the methods with cross-validation**"
   ]
  },
  {
   "cell_type": "code",
   "execution_count": 32,
   "id": "737bcc43-0510-4c1f-99d6-578cfd551b6b",
   "metadata": {},
   "outputs": [
    {
     "name": "stdout",
     "output_type": "stream",
     "text": [
      "(1586126,)\n"
     ]
    }
   ],
   "source": [
    "## create ind for different values of np.nan\n",
    "indices=np.arange(0,MUI_numpy.shape[0]*MUI_numpy.shape[1])\n",
    "indices_na=indices[~np.isnan(MUI_numpy_flatten)]\n",
    "## Train test split of the indices\n",
    "nbre_replis=5\n",
    "np.random.shuffle(indices_na)\n",
    "idx_split = np.array_split(indices_na, nbre_replis)\n",
    "print(indices_na.shape)"
   ]
  },
  {
   "cell_type": "code",
   "execution_count": 33,
   "id": "86ef680d-1eb5-4762-aa9a-1c7d06dbcc26",
   "metadata": {},
   "outputs": [
    {
     "name": "stdout",
     "output_type": "stream",
     "text": [
      "(943, 1682)\n",
      "(1268900,)\n",
      "(317226,)\n",
      "(943, 1682)\n",
      "(1268901,)\n",
      "(317225,)\n",
      "(943, 1682)\n",
      "(1268901,)\n",
      "(317225,)\n",
      "(943, 1682)\n",
      "(1268901,)\n",
      "(317225,)\n",
      "(943, 1682)\n",
      "(1268901,)\n",
      "(317225,)\n",
      "\n",
      " Results for Random Vote : \n",
      "RMSE : 3.2463512865271227\n",
      "MAE : 2.9076908145015397 \n",
      "\n",
      "Results for Global Mean Vote :\n",
      "RMSE : 0.9032777788068321\n",
      "MAE : 0.41703077645013764 \n",
      "\n",
      "Results for User Mean Vote :\n",
      "RMSE : 0.8804780508267269\n",
      "MAE : 0.39335969655369435 \n",
      "\n",
      "Results for Item Mean Vote :\n",
      "RMSE : 0.8430056861585282\n",
      "MAE : 0.36250298600537123 \n",
      "\n",
      "Results for Expected Mean Vote  :\n",
      "RMSE : 0.8400386396986486\n",
      "MAE : 0.37775421141378207 \n",
      "\n"
     ]
    }
   ],
   "source": [
    "# Initialization of the results list\n",
    "list_RMSE=[]\n",
    "list_MAE=[]\n",
    "\n",
    "for i in range(0,nbre_replis):\n",
    "    # Manual merging of indices from the other fold to create the training set\n",
    "    idx_train=np.concatenate([idx_split[j] for j in range(nbre_replis) if j!=i])\n",
    "    idx_test=idx_split[i]\n",
    "\n",
    "    # Independant copies of the flattened matrix\n",
    "    MUI_numpy_train=MUI_numpy_flatten.copy()\n",
    "    MUI_numpy_test=MUI_numpy_flatten.copy()\n",
    "\n",
    "    # Remove the test-vals from the training matrix and vice-versa\n",
    "    MUI_numpy_train[idx_test]=np.nan\n",
    "    MUI_numpy_test[idx_train]=np.nan\n",
    "\n",
    "    # Reshape into U-I matrix\n",
    "    MUI_numpy_train=MUI_numpy_train.reshape(MUI_numpy.shape)\n",
    "    MUI_numpy_test=MUI_numpy_test.reshape(MUI_numpy.shape)\n",
    "\n",
    "    # Checking the dimensions\n",
    "    print(MUI_numpy_train.shape)\n",
    "    print(MUI_numpy_train[~np.isnan(MUI_numpy_train)].shape)\n",
    "    print(MUI_numpy_test[~np.isnan(MUI_numpy_test)].shape)\n",
    "\n",
    "    # ------------------ Predictions on test values------------------\n",
    "\n",
    "    ##  Random vote\n",
    "    min_v=np.nanmin(votes['rating'])\n",
    "    max_v=np.nanmax(votes['rating'])\n",
    "    votes_alea_pred=np.random.randint(low=min_v,high=max_v+1,size=MUI_numpy_test.shape)\n",
    "\n",
    "    ## Global Mean Vote\n",
    "    global_mean=np.nanmean(MUI_numpy_train)\n",
    "    empty_columns=np.where(np.sum(~np.isnan(MUI_numpy_train),axis=0)==0)[0]\n",
    "    for col in empty_columns:\n",
    "        MUI_numpy_train[:,col]=global_mean\n",
    "    votes_moyenne_pred=np.full(MUI_numpy_test.shape,global_mean)\n",
    "\n",
    "    ## User Mean Vote\n",
    "    user_means=np.nanmean(MUI_numpy_train,axis=1)\n",
    "    user_means=np.where(np.isnan(user_means),global_mean,user_means).reshape(-1,1)\n",
    "    votes_moyenne_U_pred=np.tile(user_means,(1,MUI_numpy_test.shape[1]))\n",
    "\n",
    "    ## Item Mean Vote\n",
    "    item_means=np.nanmean(MUI_numpy_train,axis=0)\n",
    "    item_means=np.where(np.isnan(item_means),global_mean,item_means)\n",
    "    votes_moyenne_I_pred=np.tile(item_means,(MUI_numpy_test.shape[0],1))\n",
    "\n",
    "    ## Expected Mean Vote\n",
    "    moyenne_U_repeat=np.tile(user_means,(1,MUI_numpy_test.shape[1]))\n",
    "    moyenne_I_repeat=np.tile(item_means,(MUI_numpy_test.shape[0],1))\n",
    "    votes_moyenne_A_pred=0.5*(moyenne_U_repeat+moyenne_I_repeat)\n",
    "\n",
    "    ## Evaluation\n",
    "    list_matrices=[votes_alea_pred,votes_moyenne_pred,votes_moyenne_U_pred,votes_moyenne_I_pred,votes_moyenne_A_pred]\n",
    "    list_RMSE.append(np.array([RMSE(mat,MUI_numpy_test) for mat in list_matrices]))\n",
    "    list_MAE.append(np.array([MAE(mat,MUI_numpy_test) for mat in list_matrices]))\n",
    "\n",
    "list_RMSE=np.array(list_RMSE)\n",
    "list_MAE=np.array(list_MAE)\n",
    "print(\"\\n Results for Random Vote : \")\n",
    "print(\"RMSE :\",list_RMSE.mean(axis=0)[0])\n",
    "print(\"MAE :\",list_MAE.mean(axis=0)[0],'\\n')\n",
    "\n",
    "print(\"Results for Global Mean Vote :\")\n",
    "print(\"RMSE :\",list_RMSE.mean(axis=0)[1])\n",
    "print(\"MAE :\",list_MAE.mean(axis=0)[1],'\\n')\n",
    "\n",
    "print(\"Results for User Mean Vote :\")\n",
    "print(\"RMSE :\",list_RMSE.mean(axis=0)[2])\n",
    "print(\"MAE :\",list_MAE.mean(axis=0)[2],'\\n')\n",
    "\n",
    "print(\"Results for Item Mean Vote :\")\n",
    "print(\"RMSE :\",list_RMSE.mean(axis=0)[3])\n",
    "print(\"MAE :\",list_MAE.mean(axis=0)[3],'\\n')\n",
    "\n",
    "print(\"Results for Expected Mean Vote  :\")\n",
    "print(\"RMSE :\",list_RMSE.mean(axis=0)[4])\n",
    "print(\"MAE :\",list_MAE.mean(axis=0)[4],'\\n')"
   ]
  },
  {
   "cell_type": "code",
   "execution_count": 34,
   "id": "bdc0ccc5-bb4a-494f-8b28-6f9d7183ea39",
   "metadata": {},
   "outputs": [
    {
     "data": {
      "text/plain": [
       "<matplotlib.legend.Legend at 0x18b30bb10a0>"
      ]
     },
     "execution_count": 34,
     "metadata": {},
     "output_type": "execute_result"
    },
    {
     "data": {
      "image/png": "[encoded data removed]",
      "text/plain": [
       "<Figure size 1000x1000 with 1 Axes>"
      ]
     },
     "metadata": {},
     "output_type": "display_data"
    }
   ],
   "source": [
    "methodes=['Random Vote','Global Mean','User Mean','Item Mean','Expected Mean']\n",
    "plt.figure(figsize=(10,10))\n",
    "plt.bar(methodes,liste_rmse_no_cross,color='red',label='RMSE')\n",
    "plt.bar(methodes,liste_mae_no_cross,color='blue',label='MAE')\n",
    "plt.ylabel('Erreur')\n",
    "plt.title('Comparative Analysis of RMSE and MAE without cross-validation',c='red')\n",
    "plt.legend()"
   ]
  },
  {
   "cell_type": "markdown",
   "id": "12484570-e8ef-4953-92e5-0a85a49aebe2",
   "metadata": {},
   "source": [
    "Without cross-validation: Random voting produces the highest errors, which is consistent since it relies on no information from the data. It serves as a naïve baseline.\n",
    "\n",
    "Global mean voting significantly improves results by capturing a general trend in the ratings. However, this method remains limited because it does not account for individual differences between users or item-specific characteristics.\n",
    "\n",
    "User mean and item mean methods provide welcome personalization. Item mean voting stands out slightly, which can be explained by greater stability in behaviors associated with items compared to the sometimes-variable preferences of users.\n",
    "\n",
    "Finally, the expected mean vote, which combines user preferences and item profiles, is the most effective method. It benefits from double personalization and provides the most accurate predictions without cross-validation.\n",
    "\n",
    "With cross-validation: This step aims to test the robustness of methods when the training data changes. It is observed that the performance of random voting and global mean voting remains almost unchanged, indicating that they are not influenced by the distribution of training data.\n",
    "\n",
    "In contrast, the performance of user mean voting, item mean voting, and expected mean voting decreases slightly. This drop is logical, as these methods rely heavily on the data available for each fold. It also reflects a more reliable estimation of their true effectiveness on new data."
   ]
  },
  {
   "cell_type": "markdown",
   "id": "b65aad89-acfd-4110-b43b-28523c81dcb0",
   "metadata": {},
   "source": [
    "**Hypothesis Test**"
   ]
  },
  {
   "cell_type": "markdown",
   "id": "afb8faad-e573-4058-be18-2d14e33eafa5",
   "metadata": {},
   "source": [
    "We want to determine wheter the difference between the RMSE obtained by the Item Mean Vote and the User Mean Vote is statistically significant.We perform a hypothesis test for this purpose.\n",
    "\n",
    "- H0 : There is no significant difference between the RMSE of the two methods.\n",
    "- H1 : There is a significant difference between the RMSE of the two methods."
   ]
  },
  {
   "cell_type": "code",
   "execution_count": 38,
   "id": "34bee4c1-7edf-4fe8-a6ba-7b9c7218d2ee",
   "metadata": {},
   "outputs": [
    {
     "name": "stdout",
     "output_type": "stream",
     "text": [
      "T-Statistic : 21.944545622744617\n",
      "p-value : 3.7266531720536733e-06\n"
     ]
    }
   ],
   "source": [
    "## RMSE obtained using cross-validation for User vote and Item vote\n",
    "rmse_vote_user=[list_RMSE[i][2] for i in range(0,nbre_replis)]\n",
    "rmse_vote_item=[list_RMSE[i][3] for i in range(0,nbre_replis)]\n",
    "\n",
    "rmse_vote_user=np.array(rmse_vote_user)\n",
    "rmse_vote_item=np.array(rmse_vote_item)\n",
    "\n",
    "## Sample Size\n",
    "n_user=len(rmse_vote_user)\n",
    "n_items=len(rmse_vote_item)\n",
    "\n",
    "## Mean Calculation\n",
    "mean_user=np.mean(rmse_vote_user)\n",
    "mean_item=np.mean(rmse_vote_item)\n",
    "\n",
    "## Std Calculation\n",
    "std_user=np.std(rmse_vote_user,ddof=1)\n",
    "std_item=np.std(rmse_vote_item,ddof=1)\n",
    "\n",
    " ## t-statistic calculation\n",
    "t_stat=(mean_user-mean_item)/np.sqrt((std_user**2/n_user)+(std_item**2/n_items))\n",
    "\n",
    " ## Degree of Freedom calculation \n",
    "degree_of_freedom=((std_user**2/n_user)+(std_item**2/n_items))**2 / ((std_user**2/n_user)**2/(n_user-1))+((std_item**2/n_items)**2/(n_items-1))\n",
    "\n",
    " ##  p value for a two-tailed test\n",
    " ## using Student's table distribution\n",
    "t_distribution=pd.Series(np.linspace(-5,5,100000))\n",
    "cdf_val=(1+np.sign(t_distribution)*(1-np.exp(-t_distribution**2 /2)))/ 2\n",
    "closest_index = np.abs(t_distribution - t_stat).argmin()\n",
    "p_value=2*(1-cdf_val[closest_index])\n",
    "\n",
    "print(f\"T-Statistic : {t_stat}\")\n",
    "print(f\"p-value : {p_value}\")"
   ]
  },
  {
   "cell_type": "markdown",
   "id": "f743ae71-5ac4-4177-8053-25d4be612c74",
   "metadata": {},
   "source": [
    "Comment : \n",
    "\n",
    "We observe that p-value <0.05 allowing us to conclude that the difference between the RMSE obtained from the Item Mean Vote and User Mean Vote is statistically highly significant, thus leading to the rejection of the null hypothesis. The Item Mean Vote has a lower RMSE than the User Mean Vote, and there is a significant difference between the RMSE values of the two methods. Therefore, in this case, it would be more appropriate to favor the Item Mean Vote method."
   ]
  },
  {
   "cell_type": "markdown",
   "id": "1aa0c7d7-da1b-477f-906c-8b216ea0a7c2",
   "metadata": {},
   "source": [
    "## Collaborative Filter"
   ]
  },
  {
   "cell_type": "code",
   "execution_count": 41,
   "id": "1002a4f6-c2b4-4b99-9fb0-258929678b9d",
   "metadata": {},
   "outputs": [],
   "source": [
    "# cosine similarity between the row vectors of matrix A and the row vector of matrix B \n",
    "def cosinus_matrices(A:np.ndarray,B:np.ndarray):\n",
    "    # Copy to avoid modifying the original values \n",
    "    A=A.copy()\n",
    "    B=B.copy()\n",
    "    # Replace Nans with 0 in order to avoid introducing more Nans with matrix product\n",
    "    A[np.isnan(A)]=0\n",
    "    B[np.isnan(B)]=0\n",
    "    # Column matrix of the norms of each vector in A\n",
    "    col_norm_A=np.sqrt(np.sum(A**2,axis=1)).reshape(-1,1)\n",
    "    col_norm_A[col_norm_A==0]=1e-10\n",
    "    # row matrix of the norms of each vector in B \n",
    "    col_norm_B=np.sqrt(np.sum(B**2,axis=1)).reshape(1,-1)\n",
    "    col_norm_B[col_norm_B==0]=1e-10\n",
    "    # cosine similarity computation \n",
    "    cos_sim=np.dot(A,B.T)/np.matmul(col_norm_A,col_norm_B)\n",
    "\n",
    "    return cos_sim\n",
    "    \n"
   ]
  },
  {
   "cell_type": "code",
   "execution_count": 42,
   "id": "887be363-c693-4822-9a10-d6446af9652d",
   "metadata": {},
   "outputs": [],
   "source": [
    "def filtre_collaboratif(V,W):\n",
    "    \"\"\"\n",
    "    Applies a collaborative filtering approach based on similarity weighting to predict the missing ratings\n",
    "    \"\"\"\n",
    "    # create a boolean matrix with same size as V\n",
    "    # Elements that are not Nan in V are marked with 1 and nan elements with 0\n",
    "    # matrix ensures that only existing ratings contributes to the prediction \n",
    "    Bool_m=(~np.isnan(V))*1\n",
    "    W=W.copy()\n",
    "    V=V.copy()\n",
    "    # Replacing Nan values in V and W with 0 (it allows matrix operations to be performed without errors)\n",
    "    W[np.isnan(W)]=0\n",
    "    V[np.isnan(V)]=0\n",
    "    # Computing the sum of absolute sim for each user but only for the items they have rated (thanks to Bool_m)\n",
    "    K=np.dot(np.abs(W),Bool_m)\n",
    "    K[K==0]=1e-10   # Replacing 0 with a very small number to avoid the problem of dividing by 0\n",
    "    # Computing the predicted rating \n",
    "    rating_pred=np.dot(W,V)/K\n",
    "    # Restore Nans in the positions where there were no initial ratings \n",
    "    rating_pred[np.isnan(Bool_m)]=np.nan\n",
    "\n",
    "    return rating_pred\n",
    "    \n"
   ]
  },
  {
   "cell_type": "markdown",
   "id": "97946370-05ce-41cd-aa47-c9e7f9fbaae0",
   "metadata": {},
   "source": [
    "**Performance calculation of the methods without cross-validation**"
   ]
  },
  {
   "cell_type": "code",
   "execution_count": 44,
   "id": "36b18e70-a128-4159-b3b9-f5fe00370c35",
   "metadata": {},
   "outputs": [
    {
     "name": "stdout",
     "output_type": "stream",
     "text": [
      "Performance metrics for collaborative filtering : \n",
      "User Based collaborative filtering : \n",
      "MAE = 0.36062151742674914\n",
      "RMSE= 0.7953288232879233\n",
      "\n",
      "Item Based collaborative filtering : \n",
      "MAE = 0.44975968035203323\n",
      "RMSE = 0.844929425033446\n"
     ]
    }
   ],
   "source": [
    "# Computation of cosine similarity (U-U)\n",
    "W=cosinus_matrices(MUI_numpy,MUI_numpy)\n",
    "# Application of U-I collaborative filtering \n",
    "user_pred=filtre_collaboratif(MUI_numpy,W)\n",
    "# Computation of cosine similarity (I-I)\n",
    "W_item=cosinus_matrices(MUI_numpy.T,MUI_numpy.T)\n",
    "# Application of I-I collaborative filtering \n",
    "item_pred=filtre_collaboratif(MUI_numpy.T,W_item).T\n",
    "# Computation of MAE and RMSE\n",
    "mae_user=MAE(user_pred,MUI_numpy)\n",
    "rmse_user=RMSE(user_pred,MUI_numpy)\n",
    "mae_item=MAE(item_pred,MUI_numpy)\n",
    "rmse_item=RMSE(item_pred,MUI_numpy)\n",
    "\n",
    "print(\"Performance metrics for collaborative filtering : \")\n",
    "print(\"User Based collaborative filtering : \")\n",
    "print(f\"MAE = {mae_user}\")\n",
    "print(f\"RMSE= {rmse_user}\")\n",
    "print()\n",
    "print(\"Item Based collaborative filtering : \")\n",
    "print(f\"MAE = {mae_item}\")\n",
    "print(f\"RMSE = {rmse_item}\")\n",
    "\n",
    "mae_nocross_user=mae_user\n",
    "rmse_nocross_user=rmse_user\n",
    "mae_nocross_item=mae_item\n",
    "rmse_nocross_item=rmse_item"
   ]
  },
  {
   "cell_type": "markdown",
   "id": "6c8f1698-0759-4605-88f7-560db22a576f",
   "metadata": {},
   "source": [
    "**Performance calculation of the methods with cross-validation**"
   ]
  },
  {
   "cell_type": "code",
   "execution_count": 46,
   "id": "77ac7d48-017c-49ae-8be2-aae4f5b48479",
   "metadata": {},
   "outputs": [
    {
     "name": "stdout",
     "output_type": "stream",
     "text": [
      "Results for user-based collaborative filtering :\n",
      "Average RMSE : 0.7938\n",
      "Average  MAE : 0.3599\n",
      "\n",
      "Results for item-based collaborative filtering :\n",
      "Average RMSE : 0.8437\n",
      "Average  MAE : 0.4482\n",
      "\n"
     ]
    }
   ],
   "source": [
    "# Initialization of lists for metrics\n",
    "list_RMSE_CF = []\n",
    "list_MAE_CF = []\n",
    "\n",
    "for i in range(0,nbre_replis):\n",
    "    ## Construction of training and test indices\n",
    "    idx_train = [idx for j, idx in enumerate(idx_split) if j != i]\n",
    "    idx_train = np.concatenate(idx_train)\n",
    "\n",
    "\n",
    "    ## Copy of the complete matrix for train and test\n",
    "    MUI_numpy_train = MUI_numpy_flatten.copy()  # Training index list\n",
    "    MUI_numpy_test = MUI_numpy_flatten.copy()  # Test index list\n",
    "\n",
    "    ## Removal of test values from the training matrix and vice-versa\n",
    "    MUI_numpy_train[idx_test] = np.nan\n",
    "    MUI_numpy_test[idx_train] = np.nan\n",
    "\n",
    "    # Reshaping in order to restaure the matrix structure for train and test\n",
    "    MUI_numpy_train = MUI_numpy_train.reshape(MUI_numpy.shape)\n",
    "    MUI_numpy_test = MUI_numpy_test.reshape(MUI_numpy.shape)\n",
    "\n",
    "    # --------------------------------- Collaborative Filtering ---------------------------------\n",
    "    # Computation of U-U similarity\n",
    "    W_user = cosinus_matrices(MUI_numpy_train, MUI_numpy_train)\n",
    "\n",
    "    # Predictions U-U\n",
    "    user_pred = filtre_collaboratif(MUI_numpy_train, W_user)\n",
    "\n",
    "    # Computation of I-I similarity\n",
    "    W_item = cosinus_matrices(MUI_numpy_train.T, MUI_numpy_train.T)\n",
    "\n",
    "    # Predictions I=I\n",
    "    item_pred = filtre_collaboratif(MUI_numpy_train.T, W_item).T\n",
    "\n",
    "    # metrics calculation for U-U\n",
    "    rmse_user = RMSE(user_pred, MUI_numpy_test)\n",
    "    mae_user = MAE(user_pred, MUI_numpy_test)\n",
    "\n",
    "    # metrics calculation for I-I\n",
    "    rmse_item = RMSE(item_pred, MUI_numpy_test)\n",
    "    mae_item = MAE(item_pred, MUI_numpy_test)\n",
    "\n",
    "\n",
    "    list_RMSE_CF.append([rmse_user, rmse_item])\n",
    "    list_MAE_CF.append([mae_user, mae_item])\n",
    "\n",
    "# Conversion of results to numpy array for global calculation\n",
    "list_RMSE_CF = np.array(list_RMSE_CF)\n",
    "list_MAE_CF = np.array(list_MAE_CF)\n",
    "\n",
    "# Résultats globaux\n",
    "print(\"Results for user-based collaborative filtering :\")\n",
    "print(f\"Average RMSE : {list_RMSE_CF.mean(axis=0)[0]:.4f}\")\n",
    "print(f\"Average  MAE : {list_MAE_CF.mean(axis=0)[0]:.4f}\\n\")\n",
    "\n",
    "print(\"Results for item-based collaborative filtering :\")\n",
    "print(f\"Average RMSE : {list_RMSE_CF.mean(axis=0)[1]:.4f}\")\n",
    "print(f\"Average  MAE : {list_MAE_CF.mean(axis=0)[1]:.4f}\\n\")"
   ]
  },
  {
   "cell_type": "markdown",
   "id": "4dd00ec0-e137-4fbe-a945-581e5d145206",
   "metadata": {},
   "source": [
    "The results obtained for collaborative filtering show clear differences between the user-based and item-based approaches. For user-based collaborative filtering, the model achieves an average MAE of 0.3606 and an average RMSE of 0.7953, reflecting good predictive accuracy with few large errors. The moderate gap between the two metrics suggests that significant errors are rare.\n",
    "\n",
    "For item-based collaborative filtering, the performance is slightly lower, with an average MAE of 0.4482 and an average RMSE of 0.8437, indicating greater variability in predictions.\n",
    "\n",
    "Overall, the user-based approach appears to be slightly more accurate and consistent, while the item-based approach, although stable, shows a slightly higher dispersion of errors."
   ]
  },
  {
   "cell_type": "code",
   "execution_count": 48,
   "id": "df40094f-1f2b-4075-92b5-941c697a5fd3",
   "metadata": {},
   "outputs": [
    {
     "data": {
      "text/plain": [
       "<matplotlib.legend.Legend at 0x18b33047950>"
      ]
     },
     "execution_count": 48,
     "metadata": {},
     "output_type": "execute_result"
    },
    {
     "data": {
      "image/png": "[encoded data removed]",
      "text/plain": [
       "<Figure size 1300x1300 with 2 Axes>"
      ]
     },
     "metadata": {},
     "output_type": "display_data"
    }
   ],
   "source": [
    "methodes=['Collaborative Filtering User','Collaborative Filtering Item'] ## Labels methods\n",
    "# RMSE/ MAE without cross-validation\n",
    "rmse_with_no_cv=[rmse_nocross_user,rmse_nocross_item]\n",
    "mae_with_no_cv=[mae_nocross_user,mae_nocross_item]\n",
    "# RMSE / MAE  with cross-validation\n",
    "rmse_with_cv=list_RMSE_CF.mean(axis=0)\n",
    "mae_with_cv=list_MAE_CF.mean(axis=0)\n",
    "fig,ax=plt.subplots(1,2,figsize=(13,13))\n",
    "ax[0].bar(methodes,rmse_with_no_cv,color='red',label='RMSE')\n",
    "ax[0].bar(methodes,mae_with_no_cv,color='blue',label='MAE') \n",
    "ax[0].set_ylabel('Error')\n",
    "ax[0].set_title('RMSE et MAE without cross-validation',c='red')\n",
    "ax[0].legend()\n",
    "\n",
    "ax[1].bar(methodes,rmse_with_cv,color='orange',label='RMSE')\n",
    "ax[1].bar(methodes,mae_with_cv,color='green',label='MAE') \n",
    "ax[1].set_ylabel('Error')\n",
    "ax[1].set_title('RMSE et MAE with cross-validation',c='red')\n",
    "ax[1].legend()"
   ]
  },
  {
   "cell_type": "code",
   "execution_count": 49,
   "id": "5c7e98c6-6681-4dde-a838-136f95602bad",
   "metadata": {},
   "outputs": [
    {
     "name": "stdout",
     "output_type": "stream",
     "text": [
      "T-Statistic : -10.0631\n",
      "P-value : 0.0000\n",
      "The différence between the  two methods is statistically significative.\n"
     ]
    }
   ],
   "source": [
    "# Retrieval of RMSE obtained with cross-validation for U-U and I-I approaches\n",
    "rmse_user = list_RMSE_CF[:,0]  # RMSE U-U\n",
    "rmse_item = list_RMSE_CF[:,1]  # RMSE I-I\n",
    "\n",
    "# Sample size\n",
    "n_user = len(rmse_user)\n",
    "n_item = len(rmse_item)\n",
    "\n",
    "# Mean calculation\n",
    "mean_user = np.mean(rmse_user)\n",
    "mean_item = np.mean(rmse_item)\n",
    "\n",
    "# Std calculation\n",
    "std_user = np.std(rmse_user, ddof=1) \n",
    "std_item = np.std(rmse_item, ddof=1)\n",
    "\n",
    "# t-stats calculation\n",
    "t_stat_with_numpy = (mean_user - mean_item) / np.sqrt((std_user**2 / n_user) + (std_item**2 / n_item))\n",
    "\n",
    "# degree of freedom calculation\n",
    "degree_of_freedom = (((std_user**2 / n_user) + (std_item**2 / n_item))**2) / (((std_user**2 / n_user)**2 / (n_user - 1)) + ((std_item**2 / n_item)**2 / (n_item - 1)))\n",
    "\n",
    "# t-stats / p_value with scipy\n",
    "t_stat, p_value=ttest_ind(rmse_user, rmse_item, equal_var=False)\n",
    "\n",
    "# Displaying results\n",
    "print(f\"T-Statistic : {t_stat:.4f}\")\n",
    "print(f\"P-value : {p_value:.4f}\")\n",
    "\n",
    "# statistic significativity verification\n",
    "alpha = 0.05\n",
    "if p_value < alpha:\n",
    "    print(\"The différence between the  two methods is statistically significative.\")\n",
    "else:\n",
    "    print(\"The différence between the  two methods is not statistically significative.\")"
   ]
  },
  {
   "cell_type": "markdown",
   "id": "9c63268c-e078-457e-ae02-315132aa652d",
   "metadata": {},
   "source": [
    "**User-Based Approach**"
   ]
  },
  {
   "cell_type": "code",
   "execution_count": 51,
   "id": "0235452c-8c34-41f2-a288-a700494f6573",
   "metadata": {},
   "outputs": [],
   "source": [
    "## User-Based Approach\n",
    "def prediction_user(V,W):\n",
    "    V=V.copy()\n",
    "    # Replacing nan with 0 to allow matricial calculation\n",
    "    V[np.isnan(V)]=0\n",
    "    # Matmul between u-i ratings and i-i sim\n",
    "    rating_pred=np.dot(W,V)\n",
    "    ## Normalization\n",
    "    sum_weights=np.dot(W,~np.isnan(V)) ## Sum of similaritis for rated items\n",
    "    sum_weights[sum_weights==0]=1e-10\n",
    "    rating_pred=rating_pred/sum_weights\n",
    "    rating_pred[np.isnan(V)]=np.nan\n",
    "    return rating_pred"
   ]
  },
  {
   "cell_type": "markdown",
   "id": "22da9d75-3614-4450-8b8e-8acacefef3be",
   "metadata": {},
   "source": [
    "**Item-Based Approach**"
   ]
  },
  {
   "cell_type": "code",
   "execution_count": 53,
   "id": "15bd5e3c-0e79-4697-9560-8fa3edce86c7",
   "metadata": {},
   "outputs": [],
   "source": [
    "## Approche Item\n",
    "def prediction_item(V,W):\n",
    "    V=V.copy()\n",
    "    # Replacing nan with 0 to allow matricial calculation\n",
    "    V[np.isnan(V)]=0\n",
    "    # Matmul between u-i ratings and i-i sim\n",
    "    rating_pred=np.dot(V,W)\n",
    "    ## Normalization\n",
    "    sum_weights=np.dot(~np.isnan(V),W) ## Sum of sim for users\n",
    "    sum_weights[sum_weights==0]=1e-10\n",
    "    rating_pred=rating_pred/sum_weights\n",
    "    rating_pred[np.isnan(V)]=np.nan\n",
    "\n",
    "    return rating_pred"
   ]
  },
  {
   "cell_type": "markdown",
   "id": "bb65c7d9-8f2c-4fbb-b2ff-0ab0e747d837",
   "metadata": {},
   "source": [
    "**Similarity Matrices**"
   ]
  },
  {
   "cell_type": "code",
   "execution_count": 55,
   "id": "2465d3ff-48c8-4329-aa21-93a58d837e4f",
   "metadata": {},
   "outputs": [],
   "source": [
    "# U-U similarity computation\n",
    "W_user = cosinus_matrices(MUI_numpy, MUI_numpy)\n",
    "\n",
    "# I-I similarity computation\n",
    "W_item = cosinus_matrices(MUI_numpy.T, MUI_numpy.T)"
   ]
  },
  {
   "cell_type": "markdown",
   "id": "2d3f247f-4611-4a72-bc6f-05e12428ea03",
   "metadata": {},
   "source": [
    "**Predictions**"
   ]
  },
  {
   "cell_type": "code",
   "execution_count": 57,
   "id": "ea3b1e31-8b18-44b1-8866-5a78796a594c",
   "metadata": {},
   "outputs": [
    {
     "name": "stdout",
     "output_type": "stream",
     "text": [
      "Performance metrics for User approach :\n",
      "MAE = 0.3606\n",
      "RMSE = 0.7953\n",
      "\n",
      " Performance metrics for Item approach :\n",
      "MAE = 0.4498\n",
      "RMSE = 0.8449\n"
     ]
    }
   ],
   "source": [
    "# U-U Predictions\n",
    "user_pred = prediction_user(MUI_numpy, W_user)\n",
    "\n",
    "# I-I Predictions\n",
    "item_pred = prediction_item(MUI_numpy, W_item)\n",
    "\n",
    "# metrics calculation\n",
    "mae_user = MAE(user_pred, MUI_numpy)\n",
    "rmse_user = RMSE(user_pred, MUI_numpy)\n",
    "\n",
    "mae_item = MAE(item_pred, MUI_numpy)\n",
    "rmse_item = RMSE(item_pred, MUI_numpy)\n",
    "\n",
    "# Displaying results\n",
    "print(\"Performance metrics for User approach :\")\n",
    "print(f\"MAE = {mae_user:.4f}\")\n",
    "print(f\"RMSE = {rmse_user:.4f}\")\n",
    "\n",
    "print(\"\\n Performance metrics for Item approach :\")\n",
    "print(f\"MAE = {mae_item:.4f}\")\n",
    "print(f\"RMSE = {rmse_item:.4f}\")"
   ]
  },
  {
   "cell_type": "markdown",
   "id": "e279b0c1-e4e7-4982-8628-09f9540c1a6f",
   "metadata": {},
   "source": [
    "**Graphics visualization**"
   ]
  },
  {
   "cell_type": "code",
   "execution_count": 59,
   "id": "9fb80ae6-93cd-4798-bd85-d03510fa5970",
   "metadata": {},
   "outputs": [
    {
     "data": {
      "text/plain": [
       "<matplotlib.legend.Legend at 0x18b32cbff50>"
      ]
     },
     "execution_count": 59,
     "metadata": {},
     "output_type": "execute_result"
    },
    {
     "data": {
      "image/png": "[encoded data removed]",
      "text/plain": [
       "<Figure size 640x480 with 1 Axes>"
      ]
     },
     "metadata": {},
     "output_type": "display_data"
    }
   ],
   "source": [
    "labels = ['U-U', 'I-I']\n",
    "rmse_values = [rmse_user, rmse_item]\n",
    "mae_values = [mae_user, mae_item]\n",
    "\n",
    "x = range(len(labels))\n",
    "\n",
    "plt.bar(x, rmse_values, width=0.3, label='RMSE', align='center', color='blue')\n",
    "plt.bar(x, mae_values, width=0.3, label='MAE', align='center', color='orange')\n",
    "plt.xticks(x, labels)\n",
    "plt.ylabel(\"Errors\")\n",
    "plt.title(\"Comparison between RMSE and MAE for  user-user and item-item approaches without cross-validation\")\n",
    "plt.legend()"
   ]
  },
  {
   "cell_type": "markdown",
   "id": "e7e048b5-f22a-4ef0-a3b2-78da2335be7f",
   "metadata": {},
   "source": [
    "**Results Analysis:**\n",
    "\n",
    "The results show that the user–user approach is overall more effective than the item–item approach. Specifically, the root mean square error (RMSE) is 0.7953 and the mean absolute error (MAE) is 0.3606 for the user–user approach, compared to an RMSE of 0.8449 and an MAE of 0.4498 for the item–item approach. These differences indicate that predictions from the user–user approach are, on average, closer to the actual ratings, both in terms of absolute errors and large deviations.\n",
    "\n",
    "This can be explained by the fact that user preferences generally exhibit stronger correlations than item similarities, which can be affected by missing data for certain items. In this specific case, the user-user approach proves to be more effective. However, this finding is not necessarily generalizable to all datasets and should be reassessed in other contexts."
   ]
  },
  {
   "cell_type": "markdown",
   "id": "811cb1eb-3825-459d-871f-7a9327cbab24",
   "metadata": {},
   "source": [
    "**Cross-validation**"
   ]
  },
  {
   "cell_type": "code",
   "execution_count": 62,
   "id": "26b511f1-02bd-4825-ab8e-93042d2030f4",
   "metadata": {},
   "outputs": [
    {
     "name": "stdout",
     "output_type": "stream",
     "text": [
      "Cross Validation : U-U Approach\n",
      "Average RMSE : 0.809934952275394\n",
      "Average MAE : 0.33455098962926366\n",
      "\n",
      "Cross Validation : I-I Approach\n",
      "Average RMSE : 0.8512853558270974\n",
      "Average MAE : 0.404511861972744\n",
      "\n"
     ]
    }
   ],
   "source": [
    "# List to store cross-val results\n",
    "list_RMSE_user = []\n",
    "list_MAE_user = []\n",
    "list_RMSE_item = []\n",
    "list_MAE_item = []\n",
    "\n",
    "for i in range(nbre_replis):\n",
    "    # Training and test indices\n",
    "    idx_train = np.concatenate([idx_split[j] for j in range(nbre_replis) if j != i])\n",
    "    idx_test = idx_split[i]\n",
    "\n",
    "    # Training and test matrices\n",
    "    MUI_numpy_train = MUI_numpy_flatten.copy()\n",
    "    MUI_numpy_test = MUI_numpy_flatten.copy()\n",
    "    MUI_numpy_train[idx_test] = np.nan\n",
    "    MUI_numpy_test[idx_train] = np.nan\n",
    "    MUI_numpy_train = MUI_numpy_train.reshape(MUI_numpy.shape)\n",
    "    MUI_numpy_test = MUI_numpy_test.reshape(MUI_numpy.shape)\n",
    "\n",
    "    # similarities for the training set\n",
    "    user_similarities = cosinus_matrices(MUI_numpy_train, MUI_numpy_train)  # U-U similarity\n",
    "    item_similarities = cosinus_matrices(MUI_numpy_train.T, MUI_numpy_train.T)  # I-I similarity\n",
    "\n",
    "    # U-U predictions\n",
    "    predictions_user = prediction_user(MUI_numpy_train, user_similarities)\n",
    "    rmse_user = RMSE(predictions_user, MUI_numpy_test)\n",
    "    mae_user = MAE(predictions_user, MUI_numpy_test)\n",
    "    list_RMSE_user.append(rmse_user)\n",
    "    list_MAE_user.append(mae_user)\n",
    "\n",
    "    # I-I predictions\n",
    "    predictions_item = prediction_item(MUI_numpy_train, item_similarities)\n",
    "    rmse_item = RMSE(predictions_item, MUI_numpy_test)\n",
    "    mae_item = MAE(predictions_item, MUI_numpy_test)\n",
    "    list_RMSE_item.append(rmse_item)\n",
    "    list_MAE_item.append(mae_item)\n",
    "\n",
    "# mean errors calculation\n",
    "mean_RMSE_user = np.mean(list_RMSE_user)\n",
    "mean_MAE_user = np.mean(list_MAE_user)\n",
    "mean_RMSE_item = np.mean(list_RMSE_item)\n",
    "mean_MAE_item = np.mean(list_MAE_item)\n",
    "\n",
    "# results\n",
    "print(\"Cross Validation : U-U Approach\")\n",
    "print(f\"Average RMSE : {mean_RMSE_user}\")\n",
    "print(f\"Average MAE : {mean_MAE_user}\\n\")\n",
    "\n",
    "print(\"Cross Validation : I-I Approach\")\n",
    "print(f\"Average RMSE : {mean_RMSE_item}\")\n",
    "print(f\"Average MAE : {mean_MAE_item}\\n\")"
   ]
  },
  {
   "cell_type": "markdown",
   "id": "6c3597bb-2be2-48cb-8af4-b2db2738e63c",
   "metadata": {},
   "source": [
    "**Result Analysis**\n",
    "\n",
    "The obtained results allow for a comparison of the performance of the user–user and item–item approaches, both with and without cross-validation. For the user–user approach, the RMSE changes from 0.7953 without cross-validation to 0.8099 with cross-validation, while the MAE decreases from 0.3606 to 0.3346. For the item–item approach, the RMSE slightly increases from 0.8449 to 0.8512, and the MAE decreases from 0.4498 to 0.4045.\n",
    "\n",
    "These results show a slight variation in the metrics, without any drastic changes, indicating that both methods maintain relatively stable performance even when subjected to cross-validation, a sign of robustness. However, the user–user approach remains globally superior, with lower errors in both configurations, confirming its ability to better capture similarities between users compared to those between items."
   ]
  },
  {
   "cell_type": "markdown",
   "id": "60add640-3543-4b37-af2b-b40b6a273161",
   "metadata": {},
   "source": [
    "**Hypothesis Test**"
   ]
  },
  {
   "cell_type": "markdown",
   "id": "e1c0607e-7a84-48f2-8c79-2f19ce7a87d7",
   "metadata": {},
   "source": [
    "\n",
    "- H0 : There is no significant difference between the RMSE of the two methods.\n",
    "- H1 : There is a significant difference between the RMSE of the two methods."
   ]
  },
  {
   "cell_type": "code",
   "execution_count": 66,
   "id": "e2a6e311-a22c-4c95-a8fb-682494712be0",
   "metadata": {},
   "outputs": [
    {
     "name": "stdout",
     "output_type": "stream",
     "text": [
      "T-Statistic : -24.186267357303866\n",
      "P-value : 1.1583604005732043e-08\n",
      "The différence between the two methods is statistically significative.\n"
     ]
    }
   ],
   "source": [
    "# Retrieving   RMSE obtained  with cross-val for U-U and I-I approaches\n",
    "rmse_user = list_RMSE_user  # RMSE u-u\n",
    "rmse_item = list_RMSE_item  # RMSE i-i\n",
    "\n",
    "rmse_user = np.array(rmse_user)\n",
    "rmse_item = np.array(rmse_item)\n",
    "\n",
    "# sample size\n",
    "n_user = len(rmse_user)\n",
    "n_item = len(rmse_item)\n",
    "\n",
    "# mean calculation\n",
    "mean_user = np.mean(rmse_user)\n",
    "mean_item = np.mean(rmse_item)\n",
    "\n",
    "# std calculation\n",
    "std_user = np.std(rmse_user, ddof=1)  # ddof=1 pour un échantillon\n",
    "std_item = np.std(rmse_item, ddof=1)\n",
    "\n",
    "# t_stat calculation\n",
    "t_stat_numpy = (mean_user - mean_item) / np.sqrt((std_user**2 / n_user) + (std_item**2 / n_item))\n",
    "## t and p_value calculation (with scipy)\n",
    "t_stat, p_value = ttest_ind(rmse_user, rmse_item, equal_var=False)\n",
    "print(f\"T-Statistic : {t_stat}\")\n",
    "print(f\"P-value : {p_value}\")\n",
    "\n",
    "\n",
    "alpha = 0.05\n",
    "if p_value < alpha:\n",
    "    print(\"The différence between the two methods is statistically significative.\")\n",
    "else:\n",
    "    print(\"The différence between the two methods is not  statistically significative.\")"
   ]
  },
  {
   "cell_type": "markdown",
   "id": "adb41fa7-cfe4-489a-97f3-1772df03a089",
   "metadata": {},
   "source": [
    "**Bias correction for U-I**"
   ]
  },
  {
   "cell_type": "code",
   "execution_count": 68,
   "id": "0439bd84-31cb-4763-af26-6569bd672590",
   "metadata": {},
   "outputs": [
    {
     "name": "stdout",
     "output_type": "stream",
     "text": [
      "Predictions corrigées (Baseline) : [[1.22139477 0.51460792 0.43666518 ... 0.29297483 0.29350506 0.29350506]\n",
      " [0.99785137 0.29106452 0.21312178 ... 0.06943143 0.06996166 0.06996166]\n",
      " [0.97436742 0.26758057 0.18963783 ... 0.04594748 0.04647771 0.04647771]\n",
      " ...\n",
      " [0.95593698 0.24915013 0.17120739 ... 0.02751704 0.02804727 0.02804727]\n",
      " [1.02965874 0.32287189 0.24492915 ... 0.1012388  0.10176903 0.10176903]\n",
      " [1.09981332 0.39302647 0.31508373 ... 0.17139338 0.17192361 0.17192361]]\n"
     ]
    }
   ],
   "source": [
    "## Expected mean calculation per user\n",
    "user_means = np.nanmean(MUI, axis=1).reshape(-1, 1)  # Mean rating per user\n",
    "user_means = np.where(np.isnan(user_means), np.nanmean(MUI), user_means)  # replacing nan with global mean\n",
    "votes_moyenne_U_pred = np.tile(user_means, (1, MUI.shape[1]))  # extending user-mean to all the columns (items)\n",
    "\n",
    "## Expected mean calculation per item\n",
    "item_means = np.nanmean(MUI, axis=0).reshape(1, -1)  # Mean rating per item\n",
    "item_means = np.where(np.isnan(item_means), np.nanmean(MUI), item_means)  # replacing nan with global mean\n",
    "votes_moyenne_I_pred = np.tile(item_means, (MUI.shape[0], 1))  # extending user-mean to all the rows (user)\n",
    "\n",
    "## Baseline expected vote\n",
    "moyenne_U_repeat = votes_moyenne_U_pred\n",
    "moyenne_I_repeat = votes_moyenne_I_pred\n",
    "\n",
    "R_moy = 0.5 * (moyenne_U_repeat + moyenne_I_repeat)  # Combined user-item mean\n",
    "\n",
    "# Displaying corrected baseline\n",
    "print(f\"Predictions corrigées (Baseline) : {R_moy}\")"
   ]
  },
  {
   "cell_type": "code",
   "execution_count": 69,
   "id": "888e75ed-931f-4b17-8598-b5b825af0a1c",
   "metadata": {},
   "outputs": [],
   "source": [
    "#User-Based approach\n",
    "# Calculation of U-U matrix without bias\n",
    "## Mean vote per user with ignoring nans\n",
    "user_means=np.nanmean(MUI_numpy,axis=1).reshape(-1,1)\n",
    "## extending mean user on all the columns\n",
    "votes_Moyenne_U=np.tile(user_means,(1,MUI_numpy.shape[1]))\n",
    "\n",
    "MUI_WB_U_U = MUI_numpy - votes_Moyenne_U\n",
    "MUI_WB_U_U[np.isnan(MUI_WB_U_U)]=0 # replacing nan with 0 to allow matricial calculations\n",
    "# Item-Based Approach\n",
    "# Calculation of I-I matrix without bias\n",
    "item_means=np.nanmean(MUI,axis=0).reshape(1,-1)\n",
    "# # extending mean user on all the rows (each user) \n",
    "votes_Moyenne_I=np.tile(item_means,(MUI.shape[0],1))\n",
    "MUI_WB_I_I = MUI_numpy.T - votes_Moyenne_I.T\n",
    "MUI_WB_I_I[np.isnan(MUI_WB_I_I)]=0 # replacing nan with 0 to allow matricial calculations"
   ]
  },
  {
   "cell_type": "markdown",
   "id": "59c38f8d-fce4-4413-9a1f-f6db30b445c4",
   "metadata": {},
   "source": [
    "**Errors calculation without cross-validation**"
   ]
  },
  {
   "cell_type": "code",
   "execution_count": 71,
   "id": "48e88679-2a28-464e-86a4-e9c9ba45ef7a",
   "metadata": {},
   "outputs": [
    {
     "name": "stdout",
     "output_type": "stream",
     "text": [
      "Performance metrics without cross-validation \n",
      " \n",
      "User Approach\n",
      "MAE = 0.3925\n",
      "RMSE = 0.8189\n",
      "Item Approach\n",
      "MAE = 0.4772\n",
      "RMSE = 1.7313\n"
     ]
    }
   ],
   "source": [
    "# U-U similarity calculation\n",
    "W_user = cosinus_matrices(MUI_WB_U_U, MUI_WB_U_U)\n",
    "\n",
    "# I-I similarity calculation\n",
    "W_item = cosinus_matrices(MUI_WB_I_I, MUI_WB_I_I)\n",
    "\n",
    "# U-U Predictions\n",
    "user_pred = prediction_user(MUI_WB_U_U, W_user)\n",
    "\n",
    "# I-I Predictions\n",
    "item_pred = prediction_item(MUI_WB_I_I.T, W_item)\n",
    "\n",
    "# metrics calculation\n",
    "mae_user = MAE(user_pred, MUI_numpy)\n",
    "rmse_user = RMSE(user_pred, MUI_numpy)\n",
    "\n",
    "mae_item = MAE(item_pred, MUI_numpy)\n",
    "rmse_item = RMSE(item_pred, MUI_numpy)\n",
    "\n",
    "# Displaying results\n",
    "print(\"Performance metrics without cross-validation \\n \")\n",
    "print(\"User Approach\")\n",
    "print(f\"MAE = {mae_user:.4f}\")\n",
    "print(f\"RMSE = {rmse_user:.4f}\")\n",
    "print(\"Item Approach\")\n",
    "print(f\"MAE = {mae_item:.4f}\")\n",
    "print(f\"RMSE = {rmse_item:.4f}\")"
   ]
  },
  {
   "cell_type": "markdown",
   "id": "0400776b-b3bc-429a-a19c-1cae587776f0",
   "metadata": {},
   "source": [
    "**Errors calculation with cross-validation**"
   ]
  },
  {
   "cell_type": "code",
   "execution_count": 73,
   "id": "4c53f07d-f04a-498f-aab5-d181bebfda10",
   "metadata": {},
   "outputs": [
    {
     "name": "stdout",
     "output_type": "stream",
     "text": [
      "Cross-validation: User-Based Approach\n",
      "Average RMSE : 0.8374\n",
      "Average MAE : 0.3607\n",
      "\n",
      "Cross-validation: Item-Based Approach\n",
      "Average RMSE : 3.1439\n",
      "Average MAE  : 0.4831\n",
      "\n"
     ]
    }
   ],
   "source": [
    "# Initialization of lists for stocking results\n",
    "list_RMSE_user = []\n",
    "list_MAE_user = []\n",
    "list_RMSE_item = []\n",
    "list_MAE_item = []\n",
    "\n",
    "# cross-validation over n_folds\n",
    "for i in range(0,nbre_replis):\n",
    "    # Training and test-indices\n",
    "    idx_train = [idx for j, idx in enumerate(idx_split) if j != i]\n",
    "    idx_train = np.concatenate(idx_train)\n",
    "    idx_test = idx_split[i]\n",
    "\n",
    "    # Training and Test Matrices\n",
    "    MUI_numpy_train = MUI_numpy_flatten.copy()\n",
    "    MUI_numpy_test = MUI_numpy_flatten.copy()\n",
    "    MUI_numpy_train[idx_test] = np.nan  # Masking test indices in the training matrix\n",
    "    MUI_numpy_test[idx_train] = np.nan  # Masking training indices in the testing matrix\n",
    "    MUI_numpy_train = MUI_numpy_train.reshape(MUI_numpy.shape)\n",
    "    MUI_numpy_test = MUI_numpy_test.reshape(MUI_numpy.shape)\n",
    "\n",
    "    # Global mean calculation to handle empty columns\n",
    "    global_mean = np.nanmean(MUI_numpy_train)\n",
    "\n",
    "    # Handling empty columns by replacing by the global_mean\n",
    "    empty_columns = np.where(np.sum(~np.isnan(MUI_numpy_train), axis=0) == 0)[0]\n",
    "    for col in empty_columns:\n",
    "        MUI_numpy_train[:, col] = global_mean\n",
    "\n",
    "    # Global_mean for test matrix\n",
    "    votes_moyenne_pred = np.full(MUI_numpy_test.shape, global_mean)\n",
    "\n",
    "    # User-Based Approach : Mean rating per user\n",
    "    user_means = np.nanmean(MUI_numpy_train, axis=1)\n",
    "    user_means[np.isnan(user_means)] = global_mean\n",
    "    votes_Moyenne_U = np.tile(user_means.reshape(-1, 1), (1, MUI_numpy_train.shape[1]))\n",
    "    MUI_WB_U_U = MUI_numpy_train - votes_Moyenne_U\n",
    "    MUI_WB_U_U[np.isnan(MUI_WB_U_U)] = 0\n",
    "\n",
    "    # Item-Based Approach : Mean rating per item\n",
    "    item_means = np.nanmean(MUI_numpy_train, axis=0)\n",
    "    item_means[np.isnan(item_means)] = global_mean\n",
    "    votes_Moyenne_I = np.tile(item_means.reshape(1, -1), (MUI_numpy_train.shape[0], 1))\n",
    "    MUI_WB_I_I = MUI_numpy_train.T - votes_Moyenne_I.T\n",
    "    MUI_WB_I_I[np.isnan(MUI_WB_I_I)] = 0\n",
    "\n",
    "    # Sim calculation\n",
    "    user_similarities = cosinus_matrices(MUI_WB_U_U, MUI_WB_U_U)  # Similarité utilisateur-utilisateur\n",
    "    item_similarities = cosinus_matrices(MUI_WB_I_I, MUI_WB_I_I)  # Similarité item-item\n",
    "\n",
    "    # U-U predictions\n",
    "    predictions_user = prediction_user(MUI_WB_U_U, user_similarities)\n",
    "    rmse_user = RMSE(predictions_user, MUI_numpy_test)\n",
    "    mae_user = MAE(predictions_user, MUI_numpy_test)\n",
    "    list_RMSE_user.append(rmse_user)\n",
    "    list_MAE_user.append(mae_user)\n",
    "\n",
    "    # I-I predictions\n",
    "    predictions_item = prediction_item(MUI_WB_I_I.T, item_similarities)  # Alignement des dimensions\n",
    "    rmse_item = RMSE(predictions_item, MUI_numpy_test)\n",
    "    mae_item = MAE(predictions_item, MUI_numpy_test)\n",
    "    list_RMSE_item.append(rmse_item)\n",
    "    list_MAE_item.append(mae_item)\n",
    "\n",
    "# Mean errors calculation for each approach\n",
    "mean_RMSE_user = np.mean(list_RMSE_user)\n",
    "mean_MAE_user = np.mean(list_MAE_user)\n",
    "mean_RMSE_item = np.mean(list_RMSE_item)\n",
    "mean_MAE_item = np.mean(list_MAE_item)\n",
    "\n",
    "# Displaying results\n",
    "print(\"Cross-validation: User-Based Approach\")\n",
    "print(f\"Average RMSE : {mean_RMSE_user:.4f}\")\n",
    "print(f\"Average MAE : {mean_MAE_user:.4f}\\n\")\n",
    "\n",
    "print(\"Cross-validation: Item-Based Approach\")\n",
    "print(f\"Average RMSE : {mean_RMSE_item:.4f}\")\n",
    "print(f\"Average MAE  : {mean_MAE_item:.4f}\\n\")"
   ]
  },
  {
   "cell_type": "markdown",
   "id": "59399cb5-a42d-4b95-861c-bd6046be3f5f",
   "metadata": {},
   "source": [
    "The results show a marked difference between the performances of the user–user and item–item approaches, both with and without cross-validation.\n",
    "For the user–user approach, without cross-validation, the MAE is 0.3925 and the RMSE is 0.8189, indicating generally reliable predictions with a relatively moderate quadratic error. When applying cross-validation, the MAE remains stable at 0.3607 and the RMSE increases slightly to 0.8374. This stability in errors suggests that the user–user approach tolerates variations in the training set well, demonstrating a certain level of robustness.\n",
    "\n",
    "In contrast, the item–item approach yields much more inconsistent results. Without cross-validation, the MAE is 0.4772 and the RMSE is 1.7313, already showing significant errors and greater dispersion in predictions. These errors increase sharply with cross-validation: the RMSE jumps to 3.1439, while the MAE remains at 0.4831. This substantial increase indicates that the item–item approach is particularly sensitive to data splits, with performance degrading significantly when the evaluation is more rigorous.\n",
    "\n",
    "Thus, in this experimental context, the user–user approach proves to be not only more accurate but also considerably more stable than the item–item approach."
   ]
  },
  {
   "cell_type": "markdown",
   "id": "a19d19eb-f765-43e6-aef7-e8b55da5f518",
   "metadata": {},
   "source": [
    "**Hypothesis Test**"
   ]
  },
  {
   "cell_type": "code",
   "execution_count": 76,
   "id": "af6c495c-60d6-4eb4-ac02-2e645dcaadc8",
   "metadata": {},
   "outputs": [
    {
     "name": "stdout",
     "output_type": "stream",
     "text": [
      "T-Statistic : -1.719049449609743\n",
      "P-value : 0.160728638409402\n",
      "The difference between the two methods is not statistically significative\n"
     ]
    }
   ],
   "source": [
    "# Retrieving the RMSE obtained with cross-validation pour user and item based approaches\n",
    "rmse_user = np.array(list_RMSE_user)  # RMSE U-U\n",
    "rmse_item = np.array(list_RMSE_item)  # RMSE I-I\n",
    "\n",
    "# sample size\n",
    "n_user = len(rmse_user)\n",
    "n_item = len(rmse_item)\n",
    "\n",
    "# Mean calculation\n",
    "mean_user = np.mean(rmse_user)\n",
    "mean_item = np.mean(rmse_item)\n",
    "\n",
    "# Std caluclation\n",
    "std_user = np.std(rmse_user, ddof=1)  # ddof=1 for 1 sample\n",
    "std_item = np.std(rmse_item, ddof=1)\n",
    "\n",
    "# t_stats calculation\n",
    "t_stat_numpy = (mean_user - mean_item) / np.sqrt((std_user**2 / n_user) + (std_item**2 / n_item))\n",
    "\n",
    "t_stat, p_value = ttest_ind(rmse_user, rmse_item, equal_var=False)\n",
    "\n",
    "print(f\"T-Statistic : {t_stat}\")\n",
    "print(f\"P-value : {p_value}\")\n",
    "\n",
    "\n",
    "alpha = 0.05\n",
    "if p_value < alpha:\n",
    "    print(\"The difference between the two methods is statistically significative\")\n",
    "else:\n",
    "    print(\"The difference between the two methods is not statistically significative\")"
   ]
  },
  {
   "cell_type": "markdown",
   "id": "ecc36cb4-8444-4c99-8d48-a96854b96201",
   "metadata": {},
   "source": [
    "## Adding Nearest Neighbors"
   ]
  },
  {
   "cell_type": "code",
   "execution_count": 78,
   "id": "c4ca1c14-b30c-4be5-a344-62c12a41667d",
   "metadata": {},
   "outputs": [],
   "source": [
    "def prediction_utilisateur_voisins(V, W, k=100):\n",
    "    V = V.copy()\n",
    "    V[np.isnan(V)] = 0  # Replacing nan with 0 to simplify calculation\n",
    "    n_users,n_items=V.shape\n",
    "    # Initialiazing the prediction matrix with zeros\n",
    "    rating_pred=np.zeros_like(V)\n",
    "    for user_idx in range(n_users):\n",
    "        # Retrieve the similarity score for the current user\n",
    "        user_sim=W[user_idx, :]\n",
    "        # top k nearest neighbors  (descending order)\n",
    "        k_nn_idx=np.argsort(-user_sim)[:k]\n",
    "        \n",
    "        for item_idx in range(n_items):\n",
    "            # Filter neighbor indices that have ratings for this item\n",
    "            valid_neighbors=k_nn_idx[V[k_nn_idx, item_idx] > 0]\n",
    "            if len(valid_neighbors) == 0:  # if no valid neighbor skip\n",
    "                rating_pred[user_idx, item_idx]=np.nan\n",
    "                continue\n",
    "            # Extract the rating and similarity weights of valid neighbors \n",
    "            neighbors_rating=V[valid_neighbors, item_idx]\n",
    "            neighbors_weights=user_sim[valid_neighbors]\n",
    "\n",
    "            # weighted average prediction calculation\n",
    "            rating_pred[user_idx, item_idx]=np.sum(neighbors_rating * neighbors_weights) / np.sum(neighbors_weights)\n",
    "\n",
    "    return rating_pred"
   ]
  },
  {
   "cell_type": "markdown",
   "id": "cc88a588-da0f-497f-a4d6-ec97cff6bca1",
   "metadata": {},
   "source": [
    "**Error calculation without cross-validation**"
   ]
  },
  {
   "cell_type": "code",
   "execution_count": 80,
   "id": "5e4c7283-5354-4024-9425-2f7b7d80c9d2",
   "metadata": {},
   "outputs": [
    {
     "name": "stdout",
     "output_type": "stream",
     "text": [
      "Performance metrics without cross-validation :\n",
      "User-Based Approach with K- neighbors :\n",
      "MAE = 2.8344\n",
      "RMSE = 3.0546\n"
     ]
    }
   ],
   "source": [
    "# U-U sim\n",
    "W_user = cosinus_matrices(MUI_numpy, MUI_numpy)\n",
    "\n",
    "# U-U prediction with k neighbors\n",
    "user_pred_k = prediction_utilisateur_voisins(MUI_numpy, W_user, k=100)\n",
    "\n",
    "# metrics calculation without cross-validation\n",
    "mae_user_k = MAE(user_pred_k, MUI_numpy)\n",
    "rmse_user_k = RMSE(user_pred_k, MUI_numpy)\n",
    "# graph visualization\n",
    "rmseuser_no_cross_k=rmse_user_k\n",
    "maeuser_no_cross_k=mae_user_k\n",
    "\n",
    "\n",
    "# Displaying results\n",
    "print(\"Performance metrics without cross-validation :\")\n",
    "print(\"User-Based Approach with K- neighbors :\")\n",
    "print(f\"MAE = {mae_user_k:.4f}\")\n",
    "print(f\"RMSE = {rmse_user_k:.4f}\")"
   ]
  },
  {
   "cell_type": "markdown",
   "id": "67553e7b-0eaa-4325-9150-0a957a117d90",
   "metadata": {},
   "source": [
    "**Error calculation with cross-validation**"
   ]
  },
  {
   "cell_type": "code",
   "execution_count": 82,
   "id": "b8efde51-ff45-427c-ba99-ab51773fb877",
   "metadata": {},
   "outputs": [
    {
     "name": "stdout",
     "output_type": "stream",
     "text": [
      "Cross-Validation : User-Based approach with k neighbors\n",
      "Average RMSE : 3.0814\n",
      "Average MAE : 2.8636\n"
     ]
    }
   ],
   "source": [
    "# list initialization to stock results\n",
    "list_RMSE_user_k = []\n",
    "list_MAE_user_k = []\n",
    "\n",
    "# cross-validation on n_folds\n",
    "for i in range(0,nbre_replis):\n",
    "    # Training and testing indices\n",
    "    idx_train = [idx for j, idx in enumerate(idx_split) if j != i]\n",
    "    idx_train = np.concatenate(idx_train)\n",
    "    idx_test = idx_split[i]\n",
    "\n",
    "    # Training and test matrices\n",
    "    MUI_numpy_train = MUI_numpy_flatten.copy()\n",
    "    MUI_numpy_test = MUI_numpy_flatten.copy()\n",
    "    MUI_numpy_train[idx_test] = np.nan  # Removing testing indices in the training matrix\n",
    "    MUI_numpy_test[idx_train] = np.nan  # Removing training indices in the testing matrix\n",
    "    MUI_numpy_train = MUI_numpy_train.reshape(MUI_numpy.shape)\n",
    "    MUI_numpy_test = MUI_numpy_test.reshape(MUI_numpy.shape)\n",
    "\n",
    "    # U-U similarity for training matrix\n",
    "    W_user_train = cosinus_matrices(MUI_numpy_train, MUI_numpy_train)\n",
    "\n",
    "    # U-U prediction with k_neighbors\n",
    "    predictions_user_k = prediction_utilisateur_voisins(MUI_numpy_train, W_user_train, k=100)\n",
    "\n",
    "    # metrics calculation with cross-validation\n",
    "    rmse_user_k = RMSE(predictions_user_k, MUI_numpy_test)\n",
    "    mae_user_k = MAE(predictions_user_k, MUI_numpy_test)\n",
    "    list_RMSE_user_k.append(rmse_user_k)\n",
    "    list_MAE_user_k.append(mae_user_k)\n",
    "\n",
    "# Mean error calculation\n",
    "mean_RMSE_user_k = np.mean(list_RMSE_user_k)\n",
    "mean_MAE_user_k = np.mean(list_MAE_user_k)\n",
    "\n",
    "# Displaying results \n",
    "print(\"Cross-Validation : User-Based approach with k neighbors\")\n",
    "print(f\"Average RMSE : {mean_RMSE_user_k:.4f}\")\n",
    "print(f\"Average MAE : {mean_MAE_user_k:.4f}\")"
   ]
  },
  {
   "cell_type": "markdown",
   "id": "04e34c73-b4e6-48db-8c67-3d73d051f77b",
   "metadata": {},
   "source": [
    "The results obtained for the user-based approach with k neighbors are generally satisfactory, both with and without cross-validation. Without cross-validation, the MAE reaches 2.8344, indicating that predictions deviate from the actual ratings by this value on average. The RMSE is 3.0546, slightly higher due to its greater sensitivity to large errors. When applying cross-validation, performance remains similar, with an average MAE of 2.8636 and an RMSE of 3.0814. These results suggest that the k-nearest neighbors approach maintains reasonable stability despite variations in the test sets. However, the errors remain non-negligible, which may indicate occasionally weak similarities or noise within the data. It would be worthwhile to consider further optimization of hyperparameters—particularly the number of neighbors, k—as well as more refined handling of missing values to further improve prediction accuracy."
   ]
  },
  {
   "cell_type": "code",
   "execution_count": 84,
   "id": "8ec6faf0-7b1d-490d-a18a-8157ea5cfdf8",
   "metadata": {},
   "outputs": [],
   "source": [
    "## Item Based Approach with K-Neighbors\n",
    "def prediction_item_voisins(V, W, k=100):\n",
    "    V = V.copy()\n",
    "    V[np.isnan(V)] = 0\n",
    "    n_items, n_users = V.shape\n",
    "    rating_pred = np.zeros_like(V)\n",
    "\n",
    "    for item_idx in range(n_items):\n",
    "        # Retrieve sim scores for the current item\n",
    "        item_sim = W[item_idx, :]\n",
    "        # Lim to k neighbors or less if k exceeds available size\n",
    "        k_nn_idx = np.argsort(-item_sim)[:min(k, len(item_sim))]\n",
    "        # Extracting rating from the neighbors\n",
    "        neighbors_rating = V[:, k_nn_idx]\n",
    "        # Corresponding sim weights\n",
    "        neighbors_weights = item_sim[k_nn_idx]\n",
    "        # weighted predictions\n",
    "        weighted_sum = np.dot(neighbors_rating, neighbors_weights)\n",
    "        sum_weights = np.sum(neighbors_weights)\n",
    "        sum_weights = max(sum_weights, 1e-10)  ## Éviter division par 0\n",
    "        rating_pred[:, item_idx] = weighted_sum / sum_weights\n",
    "    return rating_pred.T"
   ]
  },
  {
   "cell_type": "markdown",
   "id": "a3dba166-6a29-4c58-aab8-10a0cb583e4f",
   "metadata": {},
   "source": [
    "**Error calculation without cross-validation**"
   ]
  },
  {
   "cell_type": "code",
   "execution_count": 86,
   "id": "9fff190c-eb5b-46eb-969e-7c1bb492f220",
   "metadata": {},
   "outputs": [
    {
     "name": "stdout",
     "output_type": "stream",
     "text": [
      "Performance metrics without cross-validation:\n",
      "Item-Based Approach with K-neighbors :\n",
      "MAE = 0.3372\n",
      "RMSE = 0.7548\n"
     ]
    }
   ],
   "source": [
    "# sim I-I\n",
    "W_item = cosinus_matrices(MUI_numpy.T, MUI_numpy.T)\n",
    "\n",
    "# Predictions I-I with k neighbors\n",
    "item_pred_k = prediction_item_voisins(MUI_numpy, W_item, k=100).T\n",
    "\n",
    "# metrics calculations\n",
    "mae_item_k = MAE(item_pred_k, MUI_numpy)\n",
    "rmse_item_k = RMSE(item_pred_k, MUI_numpy)\n",
    "\n",
    "rmse_item_nocross_k=rmse_item_k\n",
    "mae_item_nocross_k=mae_item_k\n",
    "# displaying results\n",
    "print(\"Performance metrics without cross-validation:\")\n",
    "print(\"Item-Based Approach with K-neighbors :\")\n",
    "print(f\"MAE = {mae_item_k:.4f}\")\n",
    "print(f\"RMSE = {rmse_item_k:.4f}\")"
   ]
  },
  {
   "cell_type": "markdown",
   "id": "8836130c-7a91-4984-a1af-4cf155029726",
   "metadata": {},
   "source": [
    "**Error calculation with cross-validation**"
   ]
  },
  {
   "cell_type": "code",
   "execution_count": 88,
   "id": "5bbf4cc0-c0ec-4982-8153-793348e43f95",
   "metadata": {},
   "outputs": [
    {
     "name": "stdout",
     "output_type": "stream",
     "text": [
      "Cross validation : Item Based Approach with k neighbors\n",
      "Average RMSE :0.7628\n",
      "Average MAE :0.3104\n"
     ]
    }
   ],
   "source": [
    "# Cross-validation over n_folds\n",
    "list_RMSE_item_k = []\n",
    "list_MAE_item_k = []\n",
    "\n",
    "for i in range(0,nbre_replis):\n",
    "    # Training and testing indices\n",
    "    idx_train = [idx for j, idx in enumerate(idx_split) if j != i]\n",
    "    idx_train = np.concatenate(idx_train)\n",
    "    idx_test = idx_split[i]\n",
    "\n",
    "    # Training and testing matrices\n",
    "    MUI_numpy_train = MUI_numpy_flatten.copy()\n",
    "    MUI_numpy_test = MUI_numpy_flatten.copy()\n",
    "    MUI_numpy_train[idx_test] = np.nan  \n",
    "    MUI_numpy_test[idx_train] = np.nan \n",
    "    MUI_numpy_train = MUI_numpy_train.reshape(MUI_numpy.shape)\n",
    "    MUI_numpy_test = MUI_numpy_test.reshape(MUI_numpy.shape)\n",
    "\n",
    "    # sim I-I for training matrix\n",
    "    W_item_train = cosinus_matrices(MUI_numpy_train.T, MUI_numpy_train.T)\n",
    "\n",
    "    # Predictions I-I with k neighbors\n",
    "    predictions_item_k = prediction_item_voisins(MUI_numpy_train, W_item_train, k=100).T  # Transposition ici\n",
    "\n",
    "    # metrics calculation for the current fold\n",
    "    rmse_item_k = RMSE(predictions_item_k, MUI_numpy_test)\n",
    "    mae_item_k = MAE(predictions_item_k, MUI_numpy_test)\n",
    "    list_RMSE_item_k.append(rmse_item_k)\n",
    "    list_MAE_item_k.append(mae_item_k)\n",
    "\n",
    "# Mean error calculation with cross-val\n",
    "mean_RMSE_item_k = np.mean(list_RMSE_item_k)\n",
    "mean_MAE_item_k = np.mean(list_MAE_item_k)\n",
    "\n",
    "# Displaying results\n",
    "print(\"Cross validation : Item Based Approach with k neighbors\")\n",
    "print(f\"Average RMSE :{mean_RMSE_item_k:.4f}\")\n",
    "print(f\"Average MAE :{mean_MAE_item_k:.4f}\")"
   ]
  },
  {
   "cell_type": "markdown",
   "id": "02a61ba7-90f2-41c1-a85c-5f167926264e",
   "metadata": {},
   "source": [
    "**Results Analysis:**\n",
    "\n",
    "For the item–item approach based on k neighbors, the results obtained are generally satisfactory and demonstrate good predictive capability. Without cross-validation, the MAE is 0.3372 and the RMSE is 0.7548, indicating relatively low errors, both in terms of absolute mean error and the absence of significant outliers. This shows that incorporating k neighbors helps better weight the contributions of similar items to produce predictions closer to the actual values.\n",
    "\n",
    "When cross-validation is applied, performance remains very good, with an RMSE of 0.7628 and an MAE of 0.3104. While the RMSE increases only slightly, the MAE improves, suggesting that the method gains in prediction consistency without being overly affected by the train/test splits.\n",
    "\n",
    "These results highlight the robustness of the item–item approach with k neighbors, while also indicating that there is still room for improvement—particularly through better tuning of the k parameter or adapting the similarity computation to better reflect the diversity of the data."
   ]
  },
  {
   "cell_type": "markdown",
   "id": "92a10d34-0380-4ff2-b320-76e7e971e8d1",
   "metadata": {},
   "source": [
    "**Graphics visualisation**"
   ]
  },
  {
   "cell_type": "code",
   "execution_count": 91,
   "id": "5e200c9c-f81b-448f-9f96-8999b18e0178",
   "metadata": {},
   "outputs": [
    {
     "data": {
      "text/plain": [
       "<matplotlib.legend.Legend at 0x18b30f3d550>"
      ]
     },
     "execution_count": 91,
     "metadata": {},
     "output_type": "execute_result"
    },
    {
     "data": {
      "image/png": "[encoded data removed]",
      "text/plain": [
       "<Figure size 1000x1000 with 1 Axes>"
      ]
     },
     "metadata": {},
     "output_type": "display_data"
    }
   ],
   "source": [
    "# Errors without cross-validation\n",
    "rmse_no_cv=[rmseuser_no_cross_k,rmse_item_nocross_k]\n",
    "mae_no_cv=[maeuser_no_cross_k, mae_item_nocross_k]\n",
    "\n",
    "# Mean Errors with cross-validation\n",
    "rmse_with_cv=[mean_RMSE_user_k,mean_RMSE_item_k]\n",
    "mae_with_cv=[mean_MAE_user_k, mean_MAE_item_k]\n",
    "\n",
    "# Approaches labels\n",
    "approaches=['User Approach', 'Item Approach']\n",
    "\n",
    "x=np.arange(len(approaches))\n",
    "width=0.3\n",
    "fig,ax=plt.subplots(figsize=(10, 10))\n",
    "\n",
    "bars_rmse_no_cv=ax.bar(x-width/2,rmse_no_cv,width,label='RMSE (No CV)', color='red')\n",
    "bars_mae_no_cv=ax.bar(x-width/2,mae_no_cv, width, label='MAE (No CV)', color='blue')\n",
    "\n",
    "bars_rmse_with_cv=ax.bar(x + width/2, rmse_with_cv, width, label='RMSE (With CV)', color='orange')\n",
    "bars_mae_with_cv=ax.bar(x + width/2, mae_with_cv, width, label='MAE (With CV)', color='green')\n",
    "\n",
    "ax.set_xlabel('Methods', fontsize=14)\n",
    "ax.set_ylabel('Errors', fontsize=14)\n",
    "ax.set_title('Comparison of RMSE et MAE errors with and without cross-validation', fontsize=16, color='red')\n",
    "ax.set_xticks(x)\n",
    "ax.set_xticklabels(approaches)\n",
    "ax.legend()"
   ]
  },
  {
   "cell_type": "markdown",
   "id": "71bfb1be-8618-462d-9aa5-421fe8d45a92",
   "metadata": {},
   "source": [
    "**Hypothesis Test**"
   ]
  },
  {
   "cell_type": "code",
   "execution_count": 93,
   "id": "cfcc8f2c-50c2-48f0-a19a-4223b56e9309",
   "metadata": {},
   "outputs": [
    {
     "name": "stdout",
     "output_type": "stream",
     "text": [
      "T-Statistic : 589.9458231216184\n",
      "P-value : 4.436069654687056e-12\n",
      "The difference between the two methods is statistically significative\n"
     ]
    }
   ],
   "source": [
    "# Retrieving the RMSE obtained with cross-validation for user and item based approaches\n",
    "rmse_user = np.array(list_RMSE_user_k) # RMSE U-U\n",
    "rmse_item = np.array(list_RMSE_item_k)  # RMSE I-i\n",
    "# Sample size\n",
    "n_user = len(rmse_user)\n",
    "n_item = len(rmse_item)\n",
    "\n",
    "# Mean calculation\n",
    "mean_user = np.mean(rmse_user)\n",
    "mean_item = np.mean(rmse_item)\n",
    "\n",
    "# Std calculation\n",
    "std_user = np.std(rmse_user, ddof=1)\n",
    "std_item = np.std(rmse_item, ddof=1)\n",
    "\n",
    "# t_stat calculation\n",
    "t_stat_numpy = (mean_user - mean_item) / np.sqrt((std_user**2 / n_user) + (std_item**2 / n_item))\n",
    "\n",
    "t_stat, p_value = ttest_ind(rmse_user, rmse_item, equal_var=False)\n",
    "\n",
    "print(f\"T-Statistic : {t_stat}\")\n",
    "print(f\"P-value : {p_value}\")\n",
    "\n",
    "\n",
    "alpha = 0.05\n",
    "if p_value < alpha:\n",
    "    print(\"The difference between the two methods is statistically significative\")\n",
    "else:\n",
    "    print(\"The difference between the two methods is not statistically significative\")"
   ]
  },
  {
   "cell_type": "code",
   "execution_count": null,
   "id": "de0d41c1-465c-4e74-8bdd-565e430fc6f4",
   "metadata": {},
   "outputs": [],
   "source": []
  }
 ],
 "metadata": {
  "kernelspec": {
   "display_name": "Python 3 (ipykernel)",
   "language": "python",
   "name": "python3"
  },
  "language_info": {
   "codemirror_mode": {
    "name": "ipython",
    "version": 3
   },
   "file_extension": ".py",
   "mimetype": "text/x-python",
   "name": "python",
   "nbconvert_exporter": "python",
   "pygments_lexer": "ipython3",
   "version": "3.12.4"
  }
 },
 "nbformat": 4,
 "nbformat_minor": 5
}
